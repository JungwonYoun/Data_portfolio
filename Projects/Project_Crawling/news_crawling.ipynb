{
 "cells": [
  {
   "cell_type": "markdown",
   "id": "aeb39f3c",
   "metadata": {},
   "source": [
    "## NEW URL 크롤링"
   ]
  },
  {
   "cell_type": "code",
   "execution_count": 35,
   "id": "327ae105",
   "metadata": {},
   "outputs": [],
   "source": [
    "# 크롤러를 만들기 전 필요한 도구들을 임포트합니다.\n",
    "import requests\n",
    "import pandas as pd\n",
    "from bs4 import BeautifulSoup\n",
    "\n",
    "# 페이지 수, 카테고리, 날짜를 입력값으로 받습니다.\n",
    "def make_urllist(page_num, code, date): \n",
    "  urllist= []\n",
    "  for i in range(1, page_num + 1):\n",
    "    url = 'https://news.naver.com/main/list.nhn?mode=LSD&mid=sec&sid1='+str(code)+'&date='+str(date)+'&page='+str(i)\n",
    "    headers = {'User-Agent': 'Mozilla/5.0 (X11; Linux x86_64) AppleWebKit/537.36 (KHTML, like Gecko) Chrome/54.0.2840.90 Safari/537.36'}\n",
    "    news = requests.get(url, headers=headers)\n",
    "\n",
    "    # BeautifulSoup의 인스턴스 생성합니다. 파서는 html.parser를 사용합니다.\n",
    "    soup = BeautifulSoup(news.content, 'html.parser')\n",
    "\n",
    "    # CASE 1\n",
    "    news_list = soup.select('.newsflash_body .type06_headline li dl')\n",
    "    # CASE 2\n",
    "    news_list.extend(soup.select('.newsflash_body .type06 li dl'))\n",
    "        \n",
    "    # 각 뉴스로부터 a 태그인 <a href ='주소'> 에서 '주소'만을 가져옵니다.\n",
    "    for line in news_list:\n",
    "        urllist.append(line.a.get('href'))\n",
    "  return urllist"
   ]
  },
  {
   "cell_type": "code",
   "execution_count": 36,
   "id": "574d135e",
   "metadata": {
    "scrolled": true
   },
   "outputs": [
    {
     "name": "stdout",
     "output_type": "stream",
     "text": [
      "뉴스 기사의 개수:  40\n"
     ]
    },
    {
     "data": {
      "text/plain": [
       "['https://n.news.naver.com/mnews/article/009/0005222155?sid=105',\n",
       " 'https://n.news.naver.com/mnews/article/020/0003533945?sid=105',\n",
       " 'https://n.news.naver.com/mnews/article/092/0002313077?sid=105',\n",
       " 'https://n.news.naver.com/mnews/article/008/0004967473?sid=105',\n",
       " 'https://n.news.naver.com/mnews/article/056/0011611479?sid=105']"
      ]
     },
     "execution_count": 36,
     "metadata": {},
     "output_type": "execute_result"
    }
   ],
   "source": [
    "url_list = make_urllist(2, 105, 20231128)\n",
    "print('뉴스 기사의 개수: ',len(url_list))\n",
    "url_list[:5]"
   ]
  },
  {
   "cell_type": "markdown",
   "id": "81782112",
   "metadata": {},
   "source": [
    "## 뉴스 URL에서 뉴스 불러오기"
   ]
  },
  {
   "cell_type": "code",
   "execution_count": 37,
   "id": "28a5bc96",
   "metadata": {},
   "outputs": [],
   "source": [
    "idx2word = {'101' : '경제', '102' : '사회', '103' : '생활/문화', '105' : 'IT/과학'}"
   ]
  },
  {
   "cell_type": "code",
   "execution_count": 4,
   "id": "59a49d1a",
   "metadata": {},
   "outputs": [],
   "source": [
    "from newspaper import Article\n",
    "from tqdm import tqdm\n",
    "\n",
    "#- 데이터프레임을 생성하는 함수입니다.\n",
    "def make_data(urllist, code):\n",
    "  text_list = []\n",
    "  for url in tqdm(urllist):\n",
    "    article = Article(url, language='ko')\n",
    "    try:\n",
    "        article.download()\n",
    "        article.parse()\n",
    "    except:\n",
    "        print(\"연결에 실패했습니다.\")\n",
    "        continue\n",
    "    text_list.append(article.title)\n",
    "\n",
    "  #- 데이터프레임의 'news' 키 아래 파싱한 텍스트를 밸류로 붙여줍니다.\n",
    "  df = pd.DataFrame({'news': text_list})\n",
    "\n",
    "  #- 데이터프레임의 'code' 키 아래 한글 카테고리명을 붙여줍니다.\n",
    "  df['code'] = idx2word[str(code)]\n",
    "  return df"
   ]
  },
  {
   "cell_type": "code",
   "execution_count": 5,
   "id": "630e931c",
   "metadata": {
    "scrolled": true
   },
   "outputs": [
    {
     "name": "stderr",
     "output_type": "stream",
     "text": [
      "100%|██████████| 40/40 [00:31<00:00,  1.26it/s]\n"
     ]
    },
    {
     "data": {
      "text/html": [
       "<div>\n",
       "<style scoped>\n",
       "    .dataframe tbody tr th:only-of-type {\n",
       "        vertical-align: middle;\n",
       "    }\n",
       "\n",
       "    .dataframe tbody tr th {\n",
       "        vertical-align: top;\n",
       "    }\n",
       "\n",
       "    .dataframe thead th {\n",
       "        text-align: right;\n",
       "    }\n",
       "</style>\n",
       "<table border=\"1\" class=\"dataframe\">\n",
       "  <thead>\n",
       "    <tr style=\"text-align: right;\">\n",
       "      <th></th>\n",
       "      <th>news</th>\n",
       "      <th>code</th>\n",
       "    </tr>\n",
       "  </thead>\n",
       "  <tbody>\n",
       "    <tr>\n",
       "      <th>0</th>\n",
       "      <td>우리 할머니 인슐린 주사 그만 맞아도 될까…‘당뇨 완치’ 길 열리나</td>\n",
       "      <td>IT/과학</td>\n",
       "    </tr>\n",
       "    <tr>\n",
       "      <th>1</th>\n",
       "      <td>강스템바이오텍, ‘퓨어스템 오에이 키트주’ 임상 순항… “기술수출에 최선”</td>\n",
       "      <td>IT/과학</td>\n",
       "    </tr>\n",
       "    <tr>\n",
       "      <th>2</th>\n",
       "      <td>DN솔루션즈, 獨 테크니컬 센터 열어…\"유럽 시장 잡는다\"</td>\n",
       "      <td>IT/과학</td>\n",
       "    </tr>\n",
       "    <tr>\n",
       "      <th>3</th>\n",
       "      <td>대구경북과학기술원 신임 총장에 이건우 서울대 전 공대 학장</td>\n",
       "      <td>IT/과학</td>\n",
       "    </tr>\n",
       "    <tr>\n",
       "      <th>4</th>\n",
       "      <td>울산 남구 테크노산업로 일원 자율주행차 시범운행지구 지정</td>\n",
       "      <td>IT/과학</td>\n",
       "    </tr>\n",
       "    <tr>\n",
       "      <th>5</th>\n",
       "      <td>유니스트, ‘세계에서 가장 영향력 있는 연구자’ 9명</td>\n",
       "      <td>IT/과학</td>\n",
       "    </tr>\n",
       "    <tr>\n",
       "      <th>6</th>\n",
       "      <td>이용훈 총장, 과기부 장관 ‘물망’…유니스트는?</td>\n",
       "      <td>IT/과학</td>\n",
       "    </tr>\n",
       "    <tr>\n",
       "      <th>7</th>\n",
       "      <td>쿠쿠전자, 대용량 '아이편한 가습기 7S' 출시</td>\n",
       "      <td>IT/과학</td>\n",
       "    </tr>\n",
       "    <tr>\n",
       "      <th>8</th>\n",
       "      <td>욕설 논란에 카르텔 폭로까지…스텝 꼬인 김범수 쇄신안</td>\n",
       "      <td>IT/과학</td>\n",
       "    </tr>\n",
       "    <tr>\n",
       "      <th>9</th>\n",
       "      <td>“이런 XXX같은” 욕설 회의... 카카오 임원 “문제점 지적하다 실수”</td>\n",
       "      <td>IT/과학</td>\n",
       "    </tr>\n",
       "  </tbody>\n",
       "</table>\n",
       "</div>"
      ],
      "text/plain": [
       "                                        news   code\n",
       "0      우리 할머니 인슐린 주사 그만 맞아도 될까…‘당뇨 완치’ 길 열리나  IT/과학\n",
       "1  강스템바이오텍, ‘퓨어스템 오에이 키트주’ 임상 순항… “기술수출에 최선”  IT/과학\n",
       "2           DN솔루션즈, 獨 테크니컬 센터 열어…\"유럽 시장 잡는다\"  IT/과학\n",
       "3           대구경북과학기술원 신임 총장에 이건우 서울대 전 공대 학장  IT/과학\n",
       "4            울산 남구 테크노산업로 일원 자율주행차 시범운행지구 지정  IT/과학\n",
       "5              유니스트, ‘세계에서 가장 영향력 있는 연구자’ 9명  IT/과학\n",
       "6                 이용훈 총장, 과기부 장관 ‘물망’…유니스트는?  IT/과학\n",
       "7                 쿠쿠전자, 대용량 '아이편한 가습기 7S' 출시  IT/과학\n",
       "8              욕설 논란에 카르텔 폭로까지…스텝 꼬인 김범수 쇄신안  IT/과학\n",
       "9   “이런 XXX같은” 욕설 회의... 카카오 임원 “문제점 지적하다 실수”  IT/과학"
      ]
     },
     "execution_count": 5,
     "metadata": {},
     "output_type": "execute_result"
    }
   ],
   "source": [
    "data = make_data(url_list, 105)\n",
    "#- 상위 10개만 출력해봅니다.\n",
    "data[:10]"
   ]
  },
  {
   "cell_type": "code",
   "execution_count": 346,
   "id": "3e840cdf",
   "metadata": {},
   "outputs": [],
   "source": [
    "code_list = [101, 102, 103, 104, 105]"
   ]
  },
  {
   "cell_type": "code",
   "execution_count": 350,
   "id": "2b75fc09",
   "metadata": {},
   "outputs": [],
   "source": [
    "\n",
    "def make_total_data(page_num, code_list, date):\n",
    "  df = None\n",
    "\n",
    "  for code in code_list:\n",
    "    url_list = make_urllist(page_num, code, date)\n",
    "    df_temp = make_data(url_list, code)\n",
    "    print(str(code)+'번 코드에 대한 데이터를 만들었습니다.')\n",
    "\n",
    "    if df is not None:\n",
    "      df = pd.concat([df, df_temp])\n",
    "    else:\n",
    "      df = df_temp\n",
    "\n",
    "  return df"
   ]
  },
  {
   "cell_type": "code",
   "execution_count": null,
   "id": "c03ef9c1",
   "metadata": {
    "scrolled": true
   },
   "outputs": [
    {
     "name": "stderr",
     "output_type": "stream",
     "text": [
      " 40%|███▉      | 237/600 [03:37<05:51,  1.03it/s]"
     ]
    }
   ],
   "source": [
    "df = make_total_data(10, code_list, 20231128)"
   ]
  },
  {
   "cell_type": "code",
   "execution_count": 90,
   "id": "872e0b21",
   "metadata": {},
   "outputs": [
    {
     "name": "stdout",
     "output_type": "stream",
     "text": [
      "뉴스 기사의 개수:  2232\n"
     ]
    }
   ],
   "source": [
    "print('뉴스 기사의 개수: ',len(df))"
   ]
  },
  {
   "cell_type": "code",
   "execution_count": 40,
   "id": "c8073a29",
   "metadata": {},
   "outputs": [
    {
     "name": "stdout",
     "output_type": "stream",
     "text": [
      "102번 코드에 대한 데이터를 만들었습니다.\n",
      "연결에 실패했습니다.\n",
      "103번 코드에 대한 데이터를 만들었습니다.\n",
      "연결에 실패했습니다.\n",
      "105번 코드에 대한 데이터를 만들었습니다.\n"
     ]
    }
   ],
   "source": [
    "startdate = 20231129\n",
    "df2 = None\n",
    "for i in range(5):\n",
    "    date = startdate + i\n",
    "    tmp = make_total_data(10, code_list, date)\n",
    "    \n",
    "    if i == 0:\n",
    "        df2 = tmp\n",
    "    else:\n",
    "        df2.concat([df, tmp])"
   ]
  },
  {
   "cell_type": "code",
   "execution_count": 63,
   "id": "d127b514",
   "metadata": {},
   "outputs": [
    {
     "data": {
      "text/html": [
       "<div>\n",
       "<style scoped>\n",
       "    .dataframe tbody tr th:only-of-type {\n",
       "        vertical-align: middle;\n",
       "    }\n",
       "\n",
       "    .dataframe tbody tr th {\n",
       "        vertical-align: top;\n",
       "    }\n",
       "\n",
       "    .dataframe thead th {\n",
       "        text-align: right;\n",
       "    }\n",
       "</style>\n",
       "<table border=\"1\" class=\"dataframe\">\n",
       "  <thead>\n",
       "    <tr style=\"text-align: right;\">\n",
       "      <th></th>\n",
       "      <th>news</th>\n",
       "      <th>code</th>\n",
       "    </tr>\n",
       "  </thead>\n",
       "  <tbody>\n",
       "    <tr>\n",
       "      <th>0</th>\n",
       "      <td>돈가스 3kg으로 85명 원생 배식한 어린이집 원장 재판行</td>\n",
       "      <td>사회</td>\n",
       "    </tr>\n",
       "    <tr>\n",
       "      <th>1</th>\n",
       "      <td>[뉴스특보 LIVE] 2030 엑스포 개최지 발표 “부산의 도전”</td>\n",
       "      <td>사회</td>\n",
       "    </tr>\n",
       "    <tr>\n",
       "      <th>2</th>\n",
       "      <td>동명이인 환자 명의로 '의료용 마약류' 처방받은 의사</td>\n",
       "      <td>사회</td>\n",
       "    </tr>\n",
       "    <tr>\n",
       "      <th>3</th>\n",
       "      <td>\"만원의 가치, 만원의 효용을 체감하는 기자협회\"</td>\n",
       "      <td>사회</td>\n",
       "    </tr>\n",
       "    <tr>\n",
       "      <th>4</th>\n",
       "      <td>\"2024년 힘차고 따뜻한 기자협회 원년\"</td>\n",
       "      <td>사회</td>\n",
       "    </tr>\n",
       "    <tr>\n",
       "      <th>...</th>\n",
       "      <td>...</td>\n",
       "      <td>...</td>\n",
       "    </tr>\n",
       "    <tr>\n",
       "      <th>584</th>\n",
       "      <td>뉴노멀소프트, 라인게임즈와 창세기전 IP 라이선스 계약</td>\n",
       "      <td>IT/과학</td>\n",
       "    </tr>\n",
       "    <tr>\n",
       "      <th>585</th>\n",
       "      <td>라인게임즈, '창세기전 모바일: 아수라 프로젝트' 사전예약 100만 돌파</td>\n",
       "      <td>IT/과학</td>\n",
       "    </tr>\n",
       "    <tr>\n",
       "      <th>586</th>\n",
       "      <td>'AR로 채우는 세상' 본디(Bondee) 첫 대규모 업데이트 실시</td>\n",
       "      <td>IT/과학</td>\n",
       "    </tr>\n",
       "    <tr>\n",
       "      <th>587</th>\n",
       "      <td>\"TV홈쇼핑 시청자 69%는 모바일·웹으로 결제…송출수수료 산정에 반영돼야\"</td>\n",
       "      <td>IT/과학</td>\n",
       "    </tr>\n",
       "    <tr>\n",
       "      <th>588</th>\n",
       "      <td>LG전자, ‘2024년형 QNED TV’ 공개</td>\n",
       "      <td>IT/과학</td>\n",
       "    </tr>\n",
       "  </tbody>\n",
       "</table>\n",
       "<p>4019 rows × 2 columns</p>\n",
       "</div>"
      ],
      "text/plain": [
       "                                           news   code\n",
       "0              돈가스 3kg으로 85명 원생 배식한 어린이집 원장 재판行     사회\n",
       "1          [뉴스특보 LIVE] 2030 엑스포 개최지 발표 “부산의 도전”     사회\n",
       "2                 동명이인 환자 명의로 '의료용 마약류' 처방받은 의사     사회\n",
       "3                   \"만원의 가치, 만원의 효용을 체감하는 기자협회\"     사회\n",
       "4                       \"2024년 힘차고 따뜻한 기자협회 원년\"     사회\n",
       "..                                          ...    ...\n",
       "584              뉴노멀소프트, 라인게임즈와 창세기전 IP 라이선스 계약  IT/과학\n",
       "585    라인게임즈, '창세기전 모바일: 아수라 프로젝트' 사전예약 100만 돌파  IT/과학\n",
       "586       'AR로 채우는 세상' 본디(Bondee) 첫 대규모 업데이트 실시  IT/과학\n",
       "587  \"TV홈쇼핑 시청자 69%는 모바일·웹으로 결제…송출수수료 산정에 반영돼야\"  IT/과학\n",
       "588                   LG전자, ‘2024년형 QNED TV’ 공개  IT/과학\n",
       "\n",
       "[4019 rows x 2 columns]"
      ]
     },
     "execution_count": 63,
     "metadata": {},
     "output_type": "execute_result"
    }
   ],
   "source": [
    "df = pd.concat([df, df2])\n",
    "df"
   ]
  },
  {
   "cell_type": "code",
   "execution_count": 45,
   "id": "5e9cf66a",
   "metadata": {
    "scrolled": false
   },
   "outputs": [
    {
     "name": "stdout",
     "output_type": "stream",
     "text": [
      "/aiffel/aiffel/news_crawler/news_data.csv File Saved!\n"
     ]
    }
   ],
   "source": [
    "import os\n",
    "\n",
    "# 데이터프레임 파일을 csv 파일로 저장합니다.\n",
    "# 저장경로는 이번 프로젝트를 위해 만든 폴더로 지정해 주세요.\n",
    "csv_path = os.getenv(\"HOME\") + \"/aiffel/news_crawler/news_data.csv\"\n",
    "df.to_csv(csv_path, index=False)\n",
    "\n",
    "if os.path.exists(csv_path):\n",
    "  print('{} File Saved!'.format(csv_path))"
   ]
  },
  {
   "cell_type": "markdown",
   "id": "521eadee",
   "metadata": {},
   "source": [
    "## 데이터 전처리"
   ]
  },
  {
   "cell_type": "code",
   "execution_count": 38,
   "id": "e33f1ba0",
   "metadata": {
    "scrolled": true
   },
   "outputs": [
    {
     "data": {
      "text/html": [
       "<div>\n",
       "<style scoped>\n",
       "    .dataframe tbody tr th:only-of-type {\n",
       "        vertical-align: middle;\n",
       "    }\n",
       "\n",
       "    .dataframe tbody tr th {\n",
       "        vertical-align: top;\n",
       "    }\n",
       "\n",
       "    .dataframe thead th {\n",
       "        text-align: right;\n",
       "    }\n",
       "</style>\n",
       "<table border=\"1\" class=\"dataframe\">\n",
       "  <thead>\n",
       "    <tr style=\"text-align: right;\">\n",
       "      <th></th>\n",
       "      <th>news</th>\n",
       "      <th>code</th>\n",
       "    </tr>\n",
       "  </thead>\n",
       "  <tbody>\n",
       "    <tr>\n",
       "      <th>0</th>\n",
       "      <td>[속보] 2030 엑스포 후보 3개국 최종 PT 종료…투표 절차 시작</td>\n",
       "      <td>정치</td>\n",
       "    </tr>\n",
       "    <tr>\n",
       "      <th>1</th>\n",
       "      <td>[BIE총회][속보] 투표 절차 시작</td>\n",
       "      <td>정치</td>\n",
       "    </tr>\n",
       "    <tr>\n",
       "      <th>2</th>\n",
       "      <td>[속보] 2030 엑스포 후보 3개국 최종 PT 종료…투표 절차 시작</td>\n",
       "      <td>정치</td>\n",
       "    </tr>\n",
       "    <tr>\n",
       "      <th>3</th>\n",
       "      <td>[속보] 2030 엑스포 후보 3개국 최종 PT 종료…투표 절차 시작</td>\n",
       "      <td>정치</td>\n",
       "    </tr>\n",
       "    <tr>\n",
       "      <th>4</th>\n",
       "      <td>“민관 유치 총결집, 韓 외교역량 한 단계 발전” [엑스포 개최지 선정]</td>\n",
       "      <td>정치</td>\n",
       "    </tr>\n",
       "  </tbody>\n",
       "</table>\n",
       "</div>"
      ],
      "text/plain": [
       "                                       news code\n",
       "0    [속보] 2030 엑스포 후보 3개국 최종 PT 종료…투표 절차 시작   정치\n",
       "1                      [BIE총회][속보] 투표 절차 시작   정치\n",
       "2    [속보] 2030 엑스포 후보 3개국 최종 PT 종료…투표 절차 시작   정치\n",
       "3    [속보] 2030 엑스포 후보 3개국 최종 PT 종료…투표 절차 시작   정치\n",
       "4  “민관 유치 총결집, 韓 외교역량 한 단계 발전” [엑스포 개최지 선정]   정치"
      ]
     },
     "execution_count": 38,
     "metadata": {},
     "output_type": "execute_result"
    }
   ],
   "source": [
    "import os\n",
    "#### 데이터 정제\n",
    "csv_path = os.getenv(\"HOME\") + \"/aiffel/news_crawler/news_data.csv\"\n",
    "df = pd.read_table(csv_path, sep=',')\n",
    "df.head()"
   ]
  },
  {
   "cell_type": "code",
   "execution_count": 39,
   "id": "4b2029cc",
   "metadata": {},
   "outputs": [],
   "source": [
    "import re\n",
    "\n",
    "def ko(text):\n",
    "    temp = re.compile(\"[^가-힣 ]+\")\n",
    "    clean = temp.sub('', text)\n",
    "    return clean"
   ]
  },
  {
   "cell_type": "code",
   "execution_count": 40,
   "id": "35af7a84",
   "metadata": {
    "scrolled": true
   },
   "outputs": [
    {
     "name": "stderr",
     "output_type": "stream",
     "text": [
      "/tmp/ipykernel_152/3134222300.py:3: FutureWarning: The default value of regex will change from True to False in a future version.\n",
      "  df['news'] = df['news'].str.replace(\"[^가-힣]\",\"\")\n"
     ]
    },
    {
     "data": {
      "text/plain": [
       "0            속보엑스포후보개국최종종료투표절차시작\n",
       "1                     총회속보투표절차시작\n",
       "2            속보엑스포후보개국최종종료투표절차시작\n",
       "3            속보엑스포후보개국최종종료투표절차시작\n",
       "4       민관유치총결집외교역량한단계발전엑스포개최지선정\n",
       "                  ...           \n",
       "5995               하나증권토큰증권시스템지원\n",
       "5996             만원인데이정도면충분갤럭시점프\n",
       "5997              재난재해현장구호복구돕는지프\n",
       "5998     카카오페이신한은행쓸수록모이는소비적금내달출시\n",
       "5999           삼성자회사하만음악재생플랫폼룬인수\n",
       "Name: news, Length: 6000, dtype: object"
      ]
     },
     "execution_count": 40,
     "metadata": {},
     "output_type": "execute_result"
    }
   ],
   "source": [
    "# 정규 표현식을 이용해서 한글 외의 문자는 전부 제거합니다.\n",
    "# df['news'] = df['news'].apply(ko)\n",
    "df['news'] = df['news'].str.replace(\"[^가-힣]\",\"\")\n",
    "df['news']"
   ]
  },
  {
   "cell_type": "code",
   "execution_count": 41,
   "id": "9a2dea37",
   "metadata": {
    "scrolled": true
   },
   "outputs": [
    {
     "name": "stdout",
     "output_type": "stream",
     "text": [
      "news    5\n",
      "code    0\n",
      "dtype: int64\n"
     ]
    }
   ],
   "source": [
    "print(df.isnull().sum())"
   ]
  },
  {
   "cell_type": "code",
   "execution_count": 42,
   "id": "a3e64c74",
   "metadata": {
    "scrolled": true
   },
   "outputs": [
    {
     "name": "stdout",
     "output_type": "stream",
     "text": [
      "news    0\n",
      "code    0\n",
      "dtype: int64\n"
     ]
    }
   ],
   "source": [
    "df = df.dropna(axis=0)\n",
    "print(df.isnull().sum())"
   ]
  },
  {
   "cell_type": "code",
   "execution_count": 44,
   "id": "7bbb0db6",
   "metadata": {},
   "outputs": [
    {
     "name": "stdout",
     "output_type": "stream",
     "text": [
      "뉴스 기사의 개수:  4533\n"
     ]
    }
   ],
   "source": [
    "df.drop_duplicates(subset=['news'], inplace=True)\n",
    "\n",
    "print('뉴스 기사의 개수: ',len(df))"
   ]
  },
  {
   "cell_type": "code",
   "execution_count": 45,
   "id": "df3567e4",
   "metadata": {},
   "outputs": [
    {
     "data": {
      "text/plain": [
       "<AxesSubplot:>"
      ]
     },
     "execution_count": 45,
     "metadata": {},
     "output_type": "execute_result"
    },
    {
     "data": {
      "image/png": "[encoded data removed]",
      "text/plain": [
       "<Figure size 432x288 with 1 Axes>"
      ]
     },
     "metadata": {
      "needs_background": "light"
     },
     "output_type": "display_data"
    }
   ],
   "source": [
    "import matplotlib.pyplot as plt\n",
    "plt.rcParams[\"font.family\"] = \"NanumGothic\"\n",
    "\n",
    "df['code'].value_counts().plot(kind = 'bar')"
   ]
  },
  {
   "cell_type": "code",
   "execution_count": 46,
   "id": "7952e5d2",
   "metadata": {
    "scrolled": true
   },
   "outputs": [
    {
     "name": "stdout",
     "output_type": "stream",
     "text": [
      "    code  count\n",
      "0  IT/과학    892\n",
      "1     경제    879\n",
      "2     사회    713\n",
      "3  생활/문화    834\n",
      "4     세계    333\n",
      "5     정치    882\n"
     ]
    }
   ],
   "source": [
    "print(df.groupby('code').size().reset_index(name = 'count'))"
   ]
  },
  {
   "cell_type": "markdown",
   "id": "8927901f",
   "metadata": {},
   "source": [
    "## 형태소 분석 및 불용어 제거"
   ]
  },
  {
   "cell_type": "code",
   "execution_count": 88,
   "id": "ec7545de",
   "metadata": {
    "scrolled": true
   },
   "outputs": [
    {
     "name": "stdout",
     "output_type": "stream",
     "text": [
      "['밤', '에', '귀가', '하', '던', '여성', '에게', '범죄', '를', '시도', '한', '대', '남성', '이', '구속', '됐', '다', '서울', '제주', '경찰서', '는', '상해', '혐의', '로', '씨', '를', '구속', '해', '수사', '하', '고', '있', '다고', '일', '밝혔', '다', '씨', '는', '지난달', '일', '피해', '여성', '을', '인근', '지하철', '역', '에서부터', '따라가', '폭행', '을', '시도', '하', '려다가', '도망간', '혐의', '를', '받', '는다', '피해', '여성', '이', '저항', '하', '자', '놀란', '씨', '는', '도망갔으며', '신고', '를', '받', '고', '주변', '을', '수색', '하', '던', '경찰', '에', '체포', '됐', '다', '피해', '여성', '은', '이', '과정', '에서', '경미', '한', '부상', '을', '입', '은', '것', '으로', '전해졌', '다']\n"
     ]
    }
   ],
   "source": [
    "from konlpy.tag import Mecab\n",
    "\n",
    "tokenizer = Mecab()\n",
    "kor_text = '밤에 귀가하던 여성에게 범죄를 시도한 대 남성이 구속됐다서울 제주경찰서는 \\\n",
    "            상해 혐의로 씨를 구속해 수사하고 있다고 일 밝혔다씨는 지난달 일 피해 여성을 \\\n",
    "            인근 지하철 역에서부터 따라가 폭행을 시도하려다가 도망간 혐의를 받는다피해 \\\n",
    "            여성이 저항하자 놀란 씨는 도망갔으며 신고를 받고 주변을 수색하던 경찰에 \\\n",
    "            체포됐다피해 여성은 이 과정에서 경미한 부상을 입은 것으로 전해졌다'\n",
    "print(tokenizer.morphs(kor_text))"
   ]
  },
  {
   "cell_type": "code",
   "execution_count": 48,
   "id": "8aa48c21",
   "metadata": {},
   "outputs": [],
   "source": [
    "stopwords = ['에','는','은','을','했','에게','있','이','의','하','한','다','과','때문','할','수','무단','따른','및','금지','전재','경향신문','기자','는데','가','등','들','파이낸셜','저작','등','뉴스']"
   ]
  },
  {
   "cell_type": "code",
   "execution_count": 49,
   "id": "28e11fa8",
   "metadata": {},
   "outputs": [],
   "source": [
    "### 불용어 추가\n",
    "with open(\"stopwords.txt\", \"r\") as f:\n",
    "    lines = f.readlines()\n",
    "    for l in lines:\n",
    "        stopwords.append(l)"
   ]
  },
  {
   "cell_type": "code",
   "execution_count": 89,
   "id": "6858fa1e",
   "metadata": {},
   "outputs": [
    {
     "data": {
      "text/plain": [
       "626"
      ]
     },
     "execution_count": 89,
     "metadata": {},
     "output_type": "execute_result"
    }
   ],
   "source": [
    "len(stopwords)"
   ]
  },
  {
   "cell_type": "code",
   "execution_count": 122,
   "id": "ccbf1135",
   "metadata": {},
   "outputs": [],
   "source": [
    "# 토큰화 및 토큰화 과정에서 불용어를 제거하는 함수입니다.\n",
    "def preprocessing(data):\n",
    "  text_data = []\n",
    "\n",
    "  for i, sentence in enumerate(data):\n",
    "    try:\n",
    "        temp_data = []\n",
    "        #- 토큰화\n",
    "        temp_data = tokenizer.morphs(sentence) \n",
    "    except:\n",
    "        print(\"오류 발생\", sentence)\n",
    "        print(i, data[i])\n",
    "        continue\n",
    "        \n",
    "    #- 불용어 제거\n",
    "    temp_data = [word for word in temp_data if not word in stopwords] \n",
    "    text_data.append(temp_data)\n",
    "\n",
    "  text_data = list(map(' '.join, text_data))\n",
    "\n",
    "  return text_data"
   ]
  },
  {
   "cell_type": "code",
   "execution_count": 99,
   "id": "505d0bf9",
   "metadata": {
    "scrolled": true
   },
   "outputs": [
    {
     "name": "stdout",
     "output_type": "stream",
     "text": [
      "총회 속보 투표 절차 시작\n"
     ]
    }
   ],
   "source": [
    "text_data = preprocessing(df['news'])\n",
    "print(text_data[1])"
   ]
  },
  {
   "cell_type": "code",
   "execution_count": 92,
   "id": "7da6d00e",
   "metadata": {
    "scrolled": false
   },
   "outputs": [
    {
     "name": "stdout",
     "output_type": "stream",
     "text": [
      "4533\n",
      "정치\n",
      "안보리위성발사논의또빈손정부단합대응계속노력\n"
     ]
    }
   ],
   "source": [
    "print(len(text_data))\n",
    "print(df[\"code\"][327])\n",
    "print(df[\"news\"][327])"
   ]
  },
  {
   "cell_type": "markdown",
   "id": "1ed75589",
   "metadata": {},
   "source": [
    "## 머신러닝 활용하여 문장 분류"
   ]
  },
  {
   "cell_type": "code",
   "execution_count": 112,
   "id": "a838636f",
   "metadata": {},
   "outputs": [],
   "source": [
    "from sklearn.model_selection import train_test_split\n",
    "from sklearn.feature_extraction.text import CountVectorizer\n",
    "from sklearn.feature_extraction.text import TfidfTransformer\n",
    "from sklearn.naive_bayes import MultinomialNB, ComplementNB, BernoulliNB\n",
    "from sklearn import metrics"
   ]
  },
  {
   "cell_type": "code",
   "execution_count": 100,
   "id": "d433da01",
   "metadata": {},
   "outputs": [],
   "source": [
    "#- 훈련 데이터와 테스트 데이터를 분리합니다.\n",
    "X_train, X_test, y_train, y_test = train_test_split(text_data, df['code'], random_state = 0)"
   ]
  },
  {
   "cell_type": "code",
   "execution_count": 101,
   "id": "8225fb19",
   "metadata": {},
   "outputs": [
    {
     "name": "stdout",
     "output_type": "stream",
     "text": [
      "훈련용 뉴스 기사의 개수 : 3399\n",
      "테스트용 뉴스 기사의 개수 :  1134\n",
      "훈련용 레이블의 개수 :  3399\n",
      "테스트용 레이블의 개수 :  1134\n"
     ]
    }
   ],
   "source": [
    "print('훈련용 뉴스 기사의 개수 :', len(X_train))\n",
    "print('테스트용 뉴스 기사의 개수 : ', len(X_test))\n",
    "print('훈련용 레이블의 개수 : ', len(y_train))\n",
    "print('테스트용 레이블의 개수 : ', len(y_test))"
   ]
  },
  {
   "cell_type": "markdown",
   "id": "4a38f65e",
   "metadata": {},
   "source": [
    "### TF-IDF 변환"
   ]
  },
  {
   "cell_type": "code",
   "execution_count": 131,
   "id": "277d89fa",
   "metadata": {},
   "outputs": [],
   "source": [
    "#- 단어의 수를 카운트하는 사이킷런의 카운트벡터라이저입니다.\n",
    "count_vect = CountVectorizer()\n",
    "X_train_counts = count_vect.fit_transform(X_train)\n",
    "\n",
    "#- 카운트벡터라이저의 결과로부터 TF-IDF 결과를 얻습니다.\n",
    "tfidf_transformer = TfidfTransformer()\n",
    "X_train_tfidf = tfidf_transformer.fit_transform(X_train_counts)\n",
    "\n",
    "#- 나이브 베이즈 분류기를 수행합니다.\n",
    "#- X_train은 TF-IDF 벡터, y_train은 레이블입니다.\n",
    "clf = ComplementNB().fit(X_train_tfidf, y_train) # 0.67"
   ]
  },
  {
   "cell_type": "code",
   "execution_count": 65,
   "id": "bacb6673",
   "metadata": {},
   "outputs": [],
   "source": [
    "def tfidf_vectorizer(data):\n",
    "  data_counts = count_vect.transform(data)\n",
    "  data_tfidf = tfidf_transformer.transform(data_counts)\n",
    "  return data_tfidf"
   ]
  },
  {
   "cell_type": "code",
   "execution_count": 118,
   "id": "96bd0285",
   "metadata": {
    "scrolled": false
   },
   "outputs": [
    {
     "name": "stdout",
     "output_type": "stream",
     "text": [
      "['경제']\n"
     ]
    }
   ],
   "source": [
    "new_sent = preprocessing([\"20분기 연속으로 적자에 시달리는 LG전자가 브랜드 이름부터 성능, 디자인까지 대대적인 변화를 \\\n",
    "                          적용한 LG 벨벳은 등장 전부터 온라인 커뮤니티를 뜨겁게 달궜다. 사용자들은 “디자인이 예쁘다”, \\\n",
    "                          “슬림하다”는 반응을 보이며 LG 벨벳에 대한 기대감을 드러냈다.\"])\n",
    "print(clf.predict(tfidf_vectorizer(new_sent)))"
   ]
  },
  {
   "cell_type": "code",
   "execution_count": 128,
   "id": "e915d405",
   "metadata": {},
   "outputs": [
    {
     "name": "stdout",
     "output_type": "stream",
     "text": [
      "              precision    recall  f1-score   support\n",
      "\n",
      "       IT/과학       0.59      0.80      0.68       198\n",
      "          경제       0.63      0.52      0.57       228\n",
      "          사회       0.71      0.60      0.65       191\n",
      "       생활/문화       0.71      0.63      0.67       216\n",
      "          세계       0.58      0.71      0.64        76\n",
      "          정치       0.78      0.81      0.80       225\n",
      "\n",
      "    accuracy                           0.67      1134\n",
      "   macro avg       0.67      0.68      0.67      1134\n",
      "weighted avg       0.68      0.67      0.67      1134\n",
      "\n"
     ]
    }
   ],
   "source": [
    "y_pred = clf.predict(tfidf_vectorizer(X_test))\n",
    "print(metrics.classification_report(y_test, y_pred))"
   ]
  },
  {
   "cell_type": "markdown",
   "id": "ab06970f",
   "metadata": {},
   "source": [
    "#### 형태소 분석기 >> Okt"
   ]
  },
  {
   "cell_type": "code",
   "execution_count": 115,
   "id": "c19f8f23",
   "metadata": {},
   "outputs": [],
   "source": [
    "from konlpy.tag import Okt\n",
    "\n",
    "tokenizer = Okt()"
   ]
  },
  {
   "cell_type": "code",
   "execution_count": 123,
   "id": "7d610c44",
   "metadata": {},
   "outputs": [
    {
     "name": "stdout",
     "output_type": "stream",
     "text": [
      "속보 엑스포 후보 개국 최종 종료 투표절차 시작\n"
     ]
    }
   ],
   "source": [
    "text_data = preprocessing(df['news'])\n",
    "print(text_data[0])"
   ]
  },
  {
   "cell_type": "code",
   "execution_count": 129,
   "id": "794aa8ea",
   "metadata": {},
   "outputs": [],
   "source": [
    "#- 단어의 수를 카운트하는 사이킷런의 카운트벡터라이저입니다.\n",
    "count_vect = CountVectorizer()\n",
    "X_train_counts = count_vect.fit_transform(X_train)\n",
    "\n",
    "#- 카운트벡터라이저의 결과로부터 TF-IDF 결과를 얻습니다.\n",
    "tfidf_transformer = TfidfTransformer()\n",
    "X_train_tfidf = tfidf_transformer.fit_transform(X_train_counts)\n",
    "\n",
    "#- 나이브 베이즈 분류기를 수행합니다.\n",
    "#- X_train은 TF-IDF 벡터, y_train은 레이블입니다.\n",
    "clf = MultinomialNB().fit(X_train_tfidf, y_train)"
   ]
  },
  {
   "cell_type": "code",
   "execution_count": 132,
   "id": "6381b65b",
   "metadata": {},
   "outputs": [
    {
     "name": "stdout",
     "output_type": "stream",
     "text": [
      "              precision    recall  f1-score   support\n",
      "\n",
      "       IT/과학       0.59      0.80      0.68       198\n",
      "          경제       0.63      0.52      0.57       228\n",
      "          사회       0.71      0.60      0.65       191\n",
      "       생활/문화       0.71      0.63      0.67       216\n",
      "          세계       0.58      0.71      0.64        76\n",
      "          정치       0.78      0.81      0.80       225\n",
      "\n",
      "    accuracy                           0.67      1134\n",
      "   macro avg       0.67      0.68      0.67      1134\n",
      "weighted avg       0.68      0.67      0.67      1134\n",
      "\n"
     ]
    }
   ],
   "source": [
    "y_pred = clf.predict(tfidf_vectorizer(X_test))\n",
    "print(metrics.classification_report(y_test, y_pred))"
   ]
  },
  {
   "cell_type": "markdown",
   "id": "f407b439",
   "metadata": {},
   "source": [
    "## 회고\n",
    "\n",
    "이번 프로젝트를 처음 진행하면서 시간의 소중함을 느꼈습니다.\n",
    "코드를 잘못 작성했을 때, 그 오랜 기다림 끝에 발생한 에러로 제 하루는 무너졌습니다.\n",
    "또한 분류할 라벨의 개수가 정확도에 큰 영향을 준다는 점을 다시 한 번 느낄 수 있었습니다.\n",
    "\n",
    "실제로 라벨도 골고루 분포되어 있는데, 라벨이 3개가 추가된 후로 정확도가 10%정도 낮아졌습니다.\n",
    "정말 아쉽습니다.\n",
    "\n",
    "뿐만 아니라, 자연어 처리는 처음 해보는 일이다 보니 더욱 어려웠던 것 같습니다.\n",
    "정답 코드를 보고 싶습니다.\n",
    "\n",
    "감사합니다."
   ]
  },
  {
   "cell_type": "code",
   "execution_count": null,
   "id": "8408f2e4",
   "metadata": {},
   "outputs": [],
   "source": []
  }
 ],
 "metadata": {
  "kernelspec": {
   "display_name": "Python 3 (ipykernel)",
   "language": "python",
   "name": "python3"
  },
  "language_info": {
   "codemirror_mode": {
    "name": "ipython",
    "version": 3
   },
   "file_extension": ".py",
   "mimetype": "text/x-python",
   "name": "python",
   "nbconvert_exporter": "python",
   "pygments_lexer": "ipython3",
   "version": "3.9.7"
  }
 },
 "nbformat": 4,
 "nbformat_minor": 5
}
