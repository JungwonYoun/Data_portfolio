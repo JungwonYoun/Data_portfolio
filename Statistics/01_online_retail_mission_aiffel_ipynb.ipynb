{
  "cells": [
    {
      "cell_type": "markdown",
      "id": "e291d328",
      "metadata": {
        "id": "e291d328"
      },
      "source": [
        "## 라이브러리 로드"
      ]
    },
    {
      "cell_type": "code",
      "execution_count": 1,
      "id": "e20112ed",
      "metadata": {
        "id": "e20112ed"
      },
      "outputs": [],
      "source": [
        "import pandas as pd\n",
        "import numpy as np\n",
        "import matplotlib.pyplot as plt\n",
        "import seaborn as sns"
      ]
    },
    {
      "cell_type": "code",
      "execution_count": 2,
      "id": "4f082eeb",
      "metadata": {
        "id": "4f082eeb",
        "colab": {
          "base_uri": "https://localhost:8080/"
        },
        "outputId": "2aa316d5-7261-4e26-83f0-954a2674812d"
      },
      "outputs": [
        {
          "output_type": "stream",
          "name": "stdout",
          "text": [
            "Requirement already satisfied: koreanize-matplotlib in /usr/local/lib/python3.10/dist-packages (0.1.1)\n",
            "Requirement already satisfied: matplotlib in /usr/local/lib/python3.10/dist-packages (from koreanize-matplotlib) (3.7.1)\n",
            "Requirement already satisfied: contourpy>=1.0.1 in /usr/local/lib/python3.10/dist-packages (from matplotlib->koreanize-matplotlib) (1.2.0)\n",
            "Requirement already satisfied: cycler>=0.10 in /usr/local/lib/python3.10/dist-packages (from matplotlib->koreanize-matplotlib) (0.12.1)\n",
            "Requirement already satisfied: fonttools>=4.22.0 in /usr/local/lib/python3.10/dist-packages (from matplotlib->koreanize-matplotlib) (4.47.2)\n",
            "Requirement already satisfied: kiwisolver>=1.0.1 in /usr/local/lib/python3.10/dist-packages (from matplotlib->koreanize-matplotlib) (1.4.5)\n",
            "Requirement already satisfied: numpy>=1.20 in /usr/local/lib/python3.10/dist-packages (from matplotlib->koreanize-matplotlib) (1.23.5)\n",
            "Requirement already satisfied: packaging>=20.0 in /usr/local/lib/python3.10/dist-packages (from matplotlib->koreanize-matplotlib) (23.2)\n",
            "Requirement already satisfied: pillow>=6.2.0 in /usr/local/lib/python3.10/dist-packages (from matplotlib->koreanize-matplotlib) (9.4.0)\n",
            "Requirement already satisfied: pyparsing>=2.3.1 in /usr/local/lib/python3.10/dist-packages (from matplotlib->koreanize-matplotlib) (3.1.1)\n",
            "Requirement already satisfied: python-dateutil>=2.7 in /usr/local/lib/python3.10/dist-packages (from matplotlib->koreanize-matplotlib) (2.8.2)\n",
            "Requirement already satisfied: six>=1.5 in /usr/local/lib/python3.10/dist-packages (from python-dateutil>=2.7->matplotlib->koreanize-matplotlib) (1.16.0)\n"
          ]
        }
      ],
      "source": [
        "!pip install koreanize-matplotlib\n",
        "import koreanize_matplotlib\n",
        "\n",
        "%config InlineBackend.figure_format = 'retina'"
      ]
    },
    {
      "cell_type": "markdown",
      "id": "7ed3b0b0",
      "metadata": {
        "id": "7ed3b0b0"
      },
      "source": [
        "## 데이터 로드\n",
        "* parquet 형식 로드를 위한 라이브러리가 설치되어 있어야 합니다."
      ]
    },
    {
      "cell_type": "code",
      "execution_count": 3,
      "id": "c97514e9",
      "metadata": {
        "id": "c97514e9",
        "colab": {
          "base_uri": "https://localhost:8080/"
        },
        "outputId": "b08e07d7-c546-4c13-9856-d92ddf83dfad"
      },
      "outputs": [
        {
          "output_type": "execute_result",
          "data": {
            "text/plain": [
              "(541909, 8)"
            ]
          },
          "metadata": {},
          "execution_count": 3
        }
      ],
      "source": [
        "df = pd.read_parquet(\"https://github.com/corazzon/KaggleStruggle/raw/master/online-retail/data/online_retail.gzip\")\n",
        "df.shape"
      ]
    },
    {
      "cell_type": "code",
      "execution_count": 4,
      "id": "d15eac16",
      "metadata": {
        "id": "d15eac16",
        "colab": {
          "base_uri": "https://localhost:8080/",
          "height": 206
        },
        "outputId": "9c8b34a9-33b1-438a-caed-689423853859"
      },
      "outputs": [
        {
          "output_type": "execute_result",
          "data": {
            "text/plain": [
              "  InvoiceNo StockCode                          Description  Quantity  \\\n",
              "0    536365    85123A   WHITE HANGING HEART T-LIGHT HOLDER         6   \n",
              "1    536365     71053                  WHITE METAL LANTERN         6   \n",
              "2    536365    84406B       CREAM CUPID HEARTS COAT HANGER         8   \n",
              "3    536365    84029G  KNITTED UNION FLAG HOT WATER BOTTLE         6   \n",
              "4    536365    84029E       RED WOOLLY HOTTIE WHITE HEART.         6   \n",
              "\n",
              "           InvoiceDate  UnitPrice  CustomerID         Country  TotalPrice  \n",
              "0  2010-12-01 08:26:00       2.55     17850.0  United Kingdom       15.30  \n",
              "1  2010-12-01 08:26:00       3.39     17850.0  United Kingdom       20.34  \n",
              "2  2010-12-01 08:26:00       2.75     17850.0  United Kingdom       22.00  \n",
              "3  2010-12-01 08:26:00       3.39     17850.0  United Kingdom       20.34  \n",
              "4  2010-12-01 08:26:00       3.39     17850.0  United Kingdom       20.34  "
            ],
            "text/html": [
              "\n",
              "  <div id=\"df-6edff9ab-bd11-4e71-9ece-15a02afb905b\" class=\"colab-df-container\">\n",
              "    <div>\n",
              "<style scoped>\n",
              "    .dataframe tbody tr th:only-of-type {\n",
              "        vertical-align: middle;\n",
              "    }\n",
              "\n",
              "    .dataframe tbody tr th {\n",
              "        vertical-align: top;\n",
              "    }\n",
              "\n",
              "    .dataframe thead th {\n",
              "        text-align: right;\n",
              "    }\n",
              "</style>\n",
              "<table border=\"1\" class=\"dataframe\">\n",
              "  <thead>\n",
              "    <tr style=\"text-align: right;\">\n",
              "      <th></th>\n",
              "      <th>InvoiceNo</th>\n",
              "      <th>StockCode</th>\n",
              "      <th>Description</th>\n",
              "      <th>Quantity</th>\n",
              "      <th>InvoiceDate</th>\n",
              "      <th>UnitPrice</th>\n",
              "      <th>CustomerID</th>\n",
              "      <th>Country</th>\n",
              "      <th>TotalPrice</th>\n",
              "    </tr>\n",
              "  </thead>\n",
              "  <tbody>\n",
              "    <tr>\n",
              "      <th>0</th>\n",
              "      <td>536365</td>\n",
              "      <td>85123A</td>\n",
              "      <td>WHITE HANGING HEART T-LIGHT HOLDER</td>\n",
              "      <td>6</td>\n",
              "      <td>2010-12-01 08:26:00</td>\n",
              "      <td>2.55</td>\n",
              "      <td>17850.0</td>\n",
              "      <td>United Kingdom</td>\n",
              "      <td>15.30</td>\n",
              "    </tr>\n",
              "    <tr>\n",
              "      <th>1</th>\n",
              "      <td>536365</td>\n",
              "      <td>71053</td>\n",
              "      <td>WHITE METAL LANTERN</td>\n",
              "      <td>6</td>\n",
              "      <td>2010-12-01 08:26:00</td>\n",
              "      <td>3.39</td>\n",
              "      <td>17850.0</td>\n",
              "      <td>United Kingdom</td>\n",
              "      <td>20.34</td>\n",
              "    </tr>\n",
              "    <tr>\n",
              "      <th>2</th>\n",
              "      <td>536365</td>\n",
              "      <td>84406B</td>\n",
              "      <td>CREAM CUPID HEARTS COAT HANGER</td>\n",
              "      <td>8</td>\n",
              "      <td>2010-12-01 08:26:00</td>\n",
              "      <td>2.75</td>\n",
              "      <td>17850.0</td>\n",
              "      <td>United Kingdom</td>\n",
              "      <td>22.00</td>\n",
              "    </tr>\n",
              "    <tr>\n",
              "      <th>3</th>\n",
              "      <td>536365</td>\n",
              "      <td>84029G</td>\n",
              "      <td>KNITTED UNION FLAG HOT WATER BOTTLE</td>\n",
              "      <td>6</td>\n",
              "      <td>2010-12-01 08:26:00</td>\n",
              "      <td>3.39</td>\n",
              "      <td>17850.0</td>\n",
              "      <td>United Kingdom</td>\n",
              "      <td>20.34</td>\n",
              "    </tr>\n",
              "    <tr>\n",
              "      <th>4</th>\n",
              "      <td>536365</td>\n",
              "      <td>84029E</td>\n",
              "      <td>RED WOOLLY HOTTIE WHITE HEART.</td>\n",
              "      <td>6</td>\n",
              "      <td>2010-12-01 08:26:00</td>\n",
              "      <td>3.39</td>\n",
              "      <td>17850.0</td>\n",
              "      <td>United Kingdom</td>\n",
              "      <td>20.34</td>\n",
              "    </tr>\n",
              "  </tbody>\n",
              "</table>\n",
              "</div>\n",
              "    <div class=\"colab-df-buttons\">\n",
              "\n",
              "  <div class=\"colab-df-container\">\n",
              "    <button class=\"colab-df-convert\" onclick=\"convertToInteractive('df-6edff9ab-bd11-4e71-9ece-15a02afb905b')\"\n",
              "            title=\"Convert this dataframe to an interactive table.\"\n",
              "            style=\"display:none;\">\n",
              "\n",
              "  <svg xmlns=\"http://www.w3.org/2000/svg\" height=\"24px\" viewBox=\"0 -960 960 960\">\n",
              "    <path d=\"M120-120v-720h720v720H120Zm60-500h600v-160H180v160Zm220 220h160v-160H400v160Zm0 220h160v-160H400v160ZM180-400h160v-160H180v160Zm440 0h160v-160H620v160ZM180-180h160v-160H180v160Zm440 0h160v-160H620v160Z\"/>\n",
              "  </svg>\n",
              "    </button>\n",
              "\n",
              "  <style>\n",
              "    .colab-df-container {\n",
              "      display:flex;\n",
              "      gap: 12px;\n",
              "    }\n",
              "\n",
              "    .colab-df-convert {\n",
              "      background-color: #E8F0FE;\n",
              "      border: none;\n",
              "      border-radius: 50%;\n",
              "      cursor: pointer;\n",
              "      display: none;\n",
              "      fill: #1967D2;\n",
              "      height: 32px;\n",
              "      padding: 0 0 0 0;\n",
              "      width: 32px;\n",
              "    }\n",
              "\n",
              "    .colab-df-convert:hover {\n",
              "      background-color: #E2EBFA;\n",
              "      box-shadow: 0px 1px 2px rgba(60, 64, 67, 0.3), 0px 1px 3px 1px rgba(60, 64, 67, 0.15);\n",
              "      fill: #174EA6;\n",
              "    }\n",
              "\n",
              "    .colab-df-buttons div {\n",
              "      margin-bottom: 4px;\n",
              "    }\n",
              "\n",
              "    [theme=dark] .colab-df-convert {\n",
              "      background-color: #3B4455;\n",
              "      fill: #D2E3FC;\n",
              "    }\n",
              "\n",
              "    [theme=dark] .colab-df-convert:hover {\n",
              "      background-color: #434B5C;\n",
              "      box-shadow: 0px 1px 3px 1px rgba(0, 0, 0, 0.15);\n",
              "      filter: drop-shadow(0px 1px 2px rgba(0, 0, 0, 0.3));\n",
              "      fill: #FFFFFF;\n",
              "    }\n",
              "  </style>\n",
              "\n",
              "    <script>\n",
              "      const buttonEl =\n",
              "        document.querySelector('#df-6edff9ab-bd11-4e71-9ece-15a02afb905b button.colab-df-convert');\n",
              "      buttonEl.style.display =\n",
              "        google.colab.kernel.accessAllowed ? 'block' : 'none';\n",
              "\n",
              "      async function convertToInteractive(key) {\n",
              "        const element = document.querySelector('#df-6edff9ab-bd11-4e71-9ece-15a02afb905b');\n",
              "        const dataTable =\n",
              "          await google.colab.kernel.invokeFunction('convertToInteractive',\n",
              "                                                    [key], {});\n",
              "        if (!dataTable) return;\n",
              "\n",
              "        const docLinkHtml = 'Like what you see? Visit the ' +\n",
              "          '<a target=\"_blank\" href=https://colab.research.google.com/notebooks/data_table.ipynb>data table notebook</a>'\n",
              "          + ' to learn more about interactive tables.';\n",
              "        element.innerHTML = '';\n",
              "        dataTable['output_type'] = 'display_data';\n",
              "        await google.colab.output.renderOutput(dataTable, element);\n",
              "        const docLink = document.createElement('div');\n",
              "        docLink.innerHTML = docLinkHtml;\n",
              "        element.appendChild(docLink);\n",
              "      }\n",
              "    </script>\n",
              "  </div>\n",
              "\n",
              "\n",
              "<div id=\"df-973afbf0-cab6-41ba-9012-0bdfd5f19726\">\n",
              "  <button class=\"colab-df-quickchart\" onclick=\"quickchart('df-973afbf0-cab6-41ba-9012-0bdfd5f19726')\"\n",
              "            title=\"Suggest charts\"\n",
              "            style=\"display:none;\">\n",
              "\n",
              "<svg xmlns=\"http://www.w3.org/2000/svg\" height=\"24px\"viewBox=\"0 0 24 24\"\n",
              "     width=\"24px\">\n",
              "    <g>\n",
              "        <path d=\"M19 3H5c-1.1 0-2 .9-2 2v14c0 1.1.9 2 2 2h14c1.1 0 2-.9 2-2V5c0-1.1-.9-2-2-2zM9 17H7v-7h2v7zm4 0h-2V7h2v10zm4 0h-2v-4h2v4z\"/>\n",
              "    </g>\n",
              "</svg>\n",
              "  </button>\n",
              "\n",
              "<style>\n",
              "  .colab-df-quickchart {\n",
              "      --bg-color: #E8F0FE;\n",
              "      --fill-color: #1967D2;\n",
              "      --hover-bg-color: #E2EBFA;\n",
              "      --hover-fill-color: #174EA6;\n",
              "      --disabled-fill-color: #AAA;\n",
              "      --disabled-bg-color: #DDD;\n",
              "  }\n",
              "\n",
              "  [theme=dark] .colab-df-quickchart {\n",
              "      --bg-color: #3B4455;\n",
              "      --fill-color: #D2E3FC;\n",
              "      --hover-bg-color: #434B5C;\n",
              "      --hover-fill-color: #FFFFFF;\n",
              "      --disabled-bg-color: #3B4455;\n",
              "      --disabled-fill-color: #666;\n",
              "  }\n",
              "\n",
              "  .colab-df-quickchart {\n",
              "    background-color: var(--bg-color);\n",
              "    border: none;\n",
              "    border-radius: 50%;\n",
              "    cursor: pointer;\n",
              "    display: none;\n",
              "    fill: var(--fill-color);\n",
              "    height: 32px;\n",
              "    padding: 0;\n",
              "    width: 32px;\n",
              "  }\n",
              "\n",
              "  .colab-df-quickchart:hover {\n",
              "    background-color: var(--hover-bg-color);\n",
              "    box-shadow: 0 1px 2px rgba(60, 64, 67, 0.3), 0 1px 3px 1px rgba(60, 64, 67, 0.15);\n",
              "    fill: var(--button-hover-fill-color);\n",
              "  }\n",
              "\n",
              "  .colab-df-quickchart-complete:disabled,\n",
              "  .colab-df-quickchart-complete:disabled:hover {\n",
              "    background-color: var(--disabled-bg-color);\n",
              "    fill: var(--disabled-fill-color);\n",
              "    box-shadow: none;\n",
              "  }\n",
              "\n",
              "  .colab-df-spinner {\n",
              "    border: 2px solid var(--fill-color);\n",
              "    border-color: transparent;\n",
              "    border-bottom-color: var(--fill-color);\n",
              "    animation:\n",
              "      spin 1s steps(1) infinite;\n",
              "  }\n",
              "\n",
              "  @keyframes spin {\n",
              "    0% {\n",
              "      border-color: transparent;\n",
              "      border-bottom-color: var(--fill-color);\n",
              "      border-left-color: var(--fill-color);\n",
              "    }\n",
              "    20% {\n",
              "      border-color: transparent;\n",
              "      border-left-color: var(--fill-color);\n",
              "      border-top-color: var(--fill-color);\n",
              "    }\n",
              "    30% {\n",
              "      border-color: transparent;\n",
              "      border-left-color: var(--fill-color);\n",
              "      border-top-color: var(--fill-color);\n",
              "      border-right-color: var(--fill-color);\n",
              "    }\n",
              "    40% {\n",
              "      border-color: transparent;\n",
              "      border-right-color: var(--fill-color);\n",
              "      border-top-color: var(--fill-color);\n",
              "    }\n",
              "    60% {\n",
              "      border-color: transparent;\n",
              "      border-right-color: var(--fill-color);\n",
              "    }\n",
              "    80% {\n",
              "      border-color: transparent;\n",
              "      border-right-color: var(--fill-color);\n",
              "      border-bottom-color: var(--fill-color);\n",
              "    }\n",
              "    90% {\n",
              "      border-color: transparent;\n",
              "      border-bottom-color: var(--fill-color);\n",
              "    }\n",
              "  }\n",
              "</style>\n",
              "\n",
              "  <script>\n",
              "    async function quickchart(key) {\n",
              "      const quickchartButtonEl =\n",
              "        document.querySelector('#' + key + ' button');\n",
              "      quickchartButtonEl.disabled = true;  // To prevent multiple clicks.\n",
              "      quickchartButtonEl.classList.add('colab-df-spinner');\n",
              "      try {\n",
              "        const charts = await google.colab.kernel.invokeFunction(\n",
              "            'suggestCharts', [key], {});\n",
              "      } catch (error) {\n",
              "        console.error('Error during call to suggestCharts:', error);\n",
              "      }\n",
              "      quickchartButtonEl.classList.remove('colab-df-spinner');\n",
              "      quickchartButtonEl.classList.add('colab-df-quickchart-complete');\n",
              "    }\n",
              "    (() => {\n",
              "      let quickchartButtonEl =\n",
              "        document.querySelector('#df-973afbf0-cab6-41ba-9012-0bdfd5f19726 button');\n",
              "      quickchartButtonEl.style.display =\n",
              "        google.colab.kernel.accessAllowed ? 'block' : 'none';\n",
              "    })();\n",
              "  </script>\n",
              "</div>\n",
              "    </div>\n",
              "  </div>\n"
            ]
          },
          "metadata": {},
          "execution_count": 4
        }
      ],
      "source": [
        "# 주문 가격\n",
        "df[\"TotalPrice\"] = df[\"Quantity\"] * df[\"UnitPrice\"]\n",
        "df.head()"
      ]
    },
    {
      "cell_type": "code",
      "execution_count": 5,
      "id": "5f288c34",
      "metadata": {
        "id": "5f288c34",
        "colab": {
          "base_uri": "https://localhost:8080/"
        },
        "outputId": "cebf4c8a-78b1-46ca-a34c-56032a54232e"
      },
      "outputs": [
        {
          "output_type": "stream",
          "name": "stdout",
          "text": [
            "<class 'pandas.core.frame.DataFrame'>\n",
            "RangeIndex: 541909 entries, 0 to 541908\n",
            "Data columns (total 9 columns):\n",
            " #   Column       Non-Null Count   Dtype   \n",
            "---  ------       --------------   -----   \n",
            " 0   InvoiceNo    541909 non-null  category\n",
            " 1   StockCode    541909 non-null  category\n",
            " 2   Description  540455 non-null  category\n",
            " 3   Quantity     541909 non-null  int32   \n",
            " 4   InvoiceDate  541909 non-null  category\n",
            " 5   UnitPrice    541909 non-null  float64 \n",
            " 6   CustomerID   406829 non-null  float32 \n",
            " 7   Country      541909 non-null  category\n",
            " 8   TotalPrice   541909 non-null  float64 \n",
            "dtypes: category(5), float32(1), float64(2), int32(1)\n",
            "memory usage: 19.3 MB\n"
          ]
        }
      ],
      "source": [
        "df.info()"
      ]
    },
    {
      "cell_type": "markdown",
      "id": "1a4839d1",
      "metadata": {
        "id": "1a4839d1"
      },
      "source": [
        "## 미션 1) 모집단과 표본 추출을 하고 TotalPrice에 대해 비교해 주세요.\n",
        "데이터셋에서 무작위로 1000개의 표본을 추출하고, 추출된 표본과 전체 데이터셋의 'TotalPrice'에 대해 평균과 표준편차를 비교하세요. 이를 통해 모집단과 표본의 차이를 설명하고, 중심극한정리가 어떻게 적용되는지 설명하세요.\n",
        "\n",
        "* pandas 의 sample 을 활용할 수 있으며, pandas 의 기술 통계 기능을 활용해 볼 수 있습니다.\n",
        "* 참고 : 슬라이드에서 중심극한정리를 찾아보세요."
      ]
    },
    {
      "cell_type": "code",
      "execution_count": 6,
      "id": "433bcfd1",
      "metadata": {
        "id": "433bcfd1",
        "colab": {
          "base_uri": "https://localhost:8080/"
        },
        "outputId": "676ebfeb-26dc-4c43-f672-065bb7649e16"
      },
      "outputs": [
        {
          "output_type": "stream",
          "name": "stdout",
          "text": [
            "모집단 평균: 17.98779487699964\n",
            "표본 평균: 14.47932\n",
            "모집단 표준편차: 378.8108235059747\n",
            "표본 표준편차: 41.8778982650837\n",
            "표준편차 비율: 0.11055095490011306\n"
          ]
        }
      ],
      "source": [
        "sample = df.sample(1000)[\"TotalPrice\"]\n",
        "\n",
        "print(f\"모집단 평균: {df['TotalPrice'].mean()}\")\n",
        "print(f\"표본 평균: {sample.mean()}\")\n",
        "print(f\"모집단 표준편차: {df['TotalPrice'].std()}\")\n",
        "print(f\"표본 표준편차: {sample.std()}\")\n",
        "\n",
        "print(f\"표준편차 비율: {sample.std()/df['TotalPrice'].std()}\")"
      ]
    },
    {
      "cell_type": "markdown",
      "source": [
        "### 미션 1) 답변\n",
        ": 모집단과 표본은 평균이 거의 차이가 나지 않으며, 표준편차의 경우 표본의 표준편차가 모집단에 비해 0.1의 비율만큼 작은 것을 알 수 있다.\n",
        "\n",
        "이는 표본을 추출하는 과정에서 표본의 크기인 n에 반비례해서 작아진다.\n",
        "\n",
        "이 부분에서  중심극한정리가 적용된다.\n",
        "중심극한정리란 모집단에서 여러 번 반복하여 n개의 표본을 추출한 뒤, 그 표본들의 평균은 모집단의 평균에 수렴한다. 표준편차는 모집단의 표준편차를 샘플의 크기인 n의 제곱근으로 나눈 것으로 수렴한다.\n",
        "\n",
        "이 때 표본의 크기가 커질 수록 표본 평균의 분포는 모집단의 분포와 별개로 정규분포를 따르게 된다."
      ],
      "metadata": {
        "id": "orTn8I7dK_Ar"
      },
      "id": "orTn8I7dK_Ar"
    },
    {
      "cell_type": "markdown",
      "id": "771d0d54",
      "metadata": {
        "id": "771d0d54"
      },
      "source": [
        "## 미션2) 'Country' 변수를 바탕으로 가장 빈도가 높은 두 개의 국가를 선택하고, 각 국가의 'TotalPrice' 평균에 차이가 있는지 검증하세요. 독립표본 t-검정을 사용하여 가설을 설정하고 검정하며, 1종 오류와 2종 오류에 대해 설명하세요.\n",
        "\n",
        "\n",
        "* 미션 진행 방법\n",
        "    <br>1) 데이터 로드 후 'TotalPrice'와 'Country' 컬럼을 찾아주세요.\n",
        "    <br>2) 데이터셋에서 주문이 가장 많은 상위 두 국가를 찾아주세요.\n",
        "    <br>3) 통계적 검증 수행하기\n",
        "    <br>4) 각 국가의 'TotalPrice' 평균을 계산하세요.\n",
        "    <br>5) 독립표본 t-검정을 사용하여 두 국가 간 'TotalPrice' 평균의 차이가 통계적으로 유의미한지 검증하세요. 이 때, scipy.stats 라이브러리의 ttest_ind 함수를 사용할 수 있습니다. equal_var=False 파라미터를 설정하여 두 집단의 분산이 다르다고 가정하세요.\n",
        "    <br>6) t-통계량과 p-값을 해석하여 결과를 설명하세요. 1종 오류와 2종 오류의 개념을 설명하고, 해당 데이터셋에 적용하여 설명해 주세요."
      ]
    },
    {
      "cell_type": "code",
      "execution_count": 7,
      "id": "c1dd5c1e",
      "metadata": {
        "id": "c1dd5c1e",
        "colab": {
          "base_uri": "https://localhost:8080/"
        },
        "outputId": "982e55d2-66e2-48bc-8d60-3a1eebe942b3"
      },
      "outputs": [
        {
          "output_type": "stream",
          "name": "stdout",
          "text": [
            "<class 'pandas.core.frame.DataFrame'>\n",
            "RangeIndex: 541909 entries, 0 to 541908\n",
            "Data columns (total 9 columns):\n",
            " #   Column       Non-Null Count   Dtype   \n",
            "---  ------       --------------   -----   \n",
            " 0   InvoiceNo    541909 non-null  category\n",
            " 1   StockCode    541909 non-null  category\n",
            " 2   Description  540455 non-null  category\n",
            " 3   Quantity     541909 non-null  int32   \n",
            " 4   InvoiceDate  541909 non-null  category\n",
            " 5   UnitPrice    541909 non-null  float64 \n",
            " 6   CustomerID   406829 non-null  float32 \n",
            " 7   Country      541909 non-null  category\n",
            " 8   TotalPrice   541909 non-null  float64 \n",
            "dtypes: category(5), float32(1), float64(2), int32(1)\n",
            "memory usage: 19.3 MB\n"
          ]
        }
      ],
      "source": [
        "from scipy import stats\n",
        "df.info()"
      ]
    },
    {
      "cell_type": "code",
      "source": [
        "df[['TotalPrice', 'Country']]"
      ],
      "metadata": {
        "colab": {
          "base_uri": "https://localhost:8080/",
          "height": 424
        },
        "id": "db54MfYIPCNp",
        "outputId": "ca8b4cfb-6842-400b-9618-587b3abc0d53"
      },
      "id": "db54MfYIPCNp",
      "execution_count": 8,
      "outputs": [
        {
          "output_type": "execute_result",
          "data": {
            "text/plain": [
              "        TotalPrice         Country\n",
              "0            15.30  United Kingdom\n",
              "1            20.34  United Kingdom\n",
              "2            22.00  United Kingdom\n",
              "3            20.34  United Kingdom\n",
              "4            20.34  United Kingdom\n",
              "...            ...             ...\n",
              "541904       10.20          France\n",
              "541905       12.60          France\n",
              "541906       16.60          France\n",
              "541907       16.60          France\n",
              "541908       14.85          France\n",
              "\n",
              "[541909 rows x 2 columns]"
            ],
            "text/html": [
              "\n",
              "  <div id=\"df-6b08cef0-f8fc-44a0-94ba-101f04ee52d6\" class=\"colab-df-container\">\n",
              "    <div>\n",
              "<style scoped>\n",
              "    .dataframe tbody tr th:only-of-type {\n",
              "        vertical-align: middle;\n",
              "    }\n",
              "\n",
              "    .dataframe tbody tr th {\n",
              "        vertical-align: top;\n",
              "    }\n",
              "\n",
              "    .dataframe thead th {\n",
              "        text-align: right;\n",
              "    }\n",
              "</style>\n",
              "<table border=\"1\" class=\"dataframe\">\n",
              "  <thead>\n",
              "    <tr style=\"text-align: right;\">\n",
              "      <th></th>\n",
              "      <th>TotalPrice</th>\n",
              "      <th>Country</th>\n",
              "    </tr>\n",
              "  </thead>\n",
              "  <tbody>\n",
              "    <tr>\n",
              "      <th>0</th>\n",
              "      <td>15.30</td>\n",
              "      <td>United Kingdom</td>\n",
              "    </tr>\n",
              "    <tr>\n",
              "      <th>1</th>\n",
              "      <td>20.34</td>\n",
              "      <td>United Kingdom</td>\n",
              "    </tr>\n",
              "    <tr>\n",
              "      <th>2</th>\n",
              "      <td>22.00</td>\n",
              "      <td>United Kingdom</td>\n",
              "    </tr>\n",
              "    <tr>\n",
              "      <th>3</th>\n",
              "      <td>20.34</td>\n",
              "      <td>United Kingdom</td>\n",
              "    </tr>\n",
              "    <tr>\n",
              "      <th>4</th>\n",
              "      <td>20.34</td>\n",
              "      <td>United Kingdom</td>\n",
              "    </tr>\n",
              "    <tr>\n",
              "      <th>...</th>\n",
              "      <td>...</td>\n",
              "      <td>...</td>\n",
              "    </tr>\n",
              "    <tr>\n",
              "      <th>541904</th>\n",
              "      <td>10.20</td>\n",
              "      <td>France</td>\n",
              "    </tr>\n",
              "    <tr>\n",
              "      <th>541905</th>\n",
              "      <td>12.60</td>\n",
              "      <td>France</td>\n",
              "    </tr>\n",
              "    <tr>\n",
              "      <th>541906</th>\n",
              "      <td>16.60</td>\n",
              "      <td>France</td>\n",
              "    </tr>\n",
              "    <tr>\n",
              "      <th>541907</th>\n",
              "      <td>16.60</td>\n",
              "      <td>France</td>\n",
              "    </tr>\n",
              "    <tr>\n",
              "      <th>541908</th>\n",
              "      <td>14.85</td>\n",
              "      <td>France</td>\n",
              "    </tr>\n",
              "  </tbody>\n",
              "</table>\n",
              "<p>541909 rows × 2 columns</p>\n",
              "</div>\n",
              "    <div class=\"colab-df-buttons\">\n",
              "\n",
              "  <div class=\"colab-df-container\">\n",
              "    <button class=\"colab-df-convert\" onclick=\"convertToInteractive('df-6b08cef0-f8fc-44a0-94ba-101f04ee52d6')\"\n",
              "            title=\"Convert this dataframe to an interactive table.\"\n",
              "            style=\"display:none;\">\n",
              "\n",
              "  <svg xmlns=\"http://www.w3.org/2000/svg\" height=\"24px\" viewBox=\"0 -960 960 960\">\n",
              "    <path d=\"M120-120v-720h720v720H120Zm60-500h600v-160H180v160Zm220 220h160v-160H400v160Zm0 220h160v-160H400v160ZM180-400h160v-160H180v160Zm440 0h160v-160H620v160ZM180-180h160v-160H180v160Zm440 0h160v-160H620v160Z\"/>\n",
              "  </svg>\n",
              "    </button>\n",
              "\n",
              "  <style>\n",
              "    .colab-df-container {\n",
              "      display:flex;\n",
              "      gap: 12px;\n",
              "    }\n",
              "\n",
              "    .colab-df-convert {\n",
              "      background-color: #E8F0FE;\n",
              "      border: none;\n",
              "      border-radius: 50%;\n",
              "      cursor: pointer;\n",
              "      display: none;\n",
              "      fill: #1967D2;\n",
              "      height: 32px;\n",
              "      padding: 0 0 0 0;\n",
              "      width: 32px;\n",
              "    }\n",
              "\n",
              "    .colab-df-convert:hover {\n",
              "      background-color: #E2EBFA;\n",
              "      box-shadow: 0px 1px 2px rgba(60, 64, 67, 0.3), 0px 1px 3px 1px rgba(60, 64, 67, 0.15);\n",
              "      fill: #174EA6;\n",
              "    }\n",
              "\n",
              "    .colab-df-buttons div {\n",
              "      margin-bottom: 4px;\n",
              "    }\n",
              "\n",
              "    [theme=dark] .colab-df-convert {\n",
              "      background-color: #3B4455;\n",
              "      fill: #D2E3FC;\n",
              "    }\n",
              "\n",
              "    [theme=dark] .colab-df-convert:hover {\n",
              "      background-color: #434B5C;\n",
              "      box-shadow: 0px 1px 3px 1px rgba(0, 0, 0, 0.15);\n",
              "      filter: drop-shadow(0px 1px 2px rgba(0, 0, 0, 0.3));\n",
              "      fill: #FFFFFF;\n",
              "    }\n",
              "  </style>\n",
              "\n",
              "    <script>\n",
              "      const buttonEl =\n",
              "        document.querySelector('#df-6b08cef0-f8fc-44a0-94ba-101f04ee52d6 button.colab-df-convert');\n",
              "      buttonEl.style.display =\n",
              "        google.colab.kernel.accessAllowed ? 'block' : 'none';\n",
              "\n",
              "      async function convertToInteractive(key) {\n",
              "        const element = document.querySelector('#df-6b08cef0-f8fc-44a0-94ba-101f04ee52d6');\n",
              "        const dataTable =\n",
              "          await google.colab.kernel.invokeFunction('convertToInteractive',\n",
              "                                                    [key], {});\n",
              "        if (!dataTable) return;\n",
              "\n",
              "        const docLinkHtml = 'Like what you see? Visit the ' +\n",
              "          '<a target=\"_blank\" href=https://colab.research.google.com/notebooks/data_table.ipynb>data table notebook</a>'\n",
              "          + ' to learn more about interactive tables.';\n",
              "        element.innerHTML = '';\n",
              "        dataTable['output_type'] = 'display_data';\n",
              "        await google.colab.output.renderOutput(dataTable, element);\n",
              "        const docLink = document.createElement('div');\n",
              "        docLink.innerHTML = docLinkHtml;\n",
              "        element.appendChild(docLink);\n",
              "      }\n",
              "    </script>\n",
              "  </div>\n",
              "\n",
              "\n",
              "<div id=\"df-d0831217-4617-4992-83a8-6920c3221169\">\n",
              "  <button class=\"colab-df-quickchart\" onclick=\"quickchart('df-d0831217-4617-4992-83a8-6920c3221169')\"\n",
              "            title=\"Suggest charts\"\n",
              "            style=\"display:none;\">\n",
              "\n",
              "<svg xmlns=\"http://www.w3.org/2000/svg\" height=\"24px\"viewBox=\"0 0 24 24\"\n",
              "     width=\"24px\">\n",
              "    <g>\n",
              "        <path d=\"M19 3H5c-1.1 0-2 .9-2 2v14c0 1.1.9 2 2 2h14c1.1 0 2-.9 2-2V5c0-1.1-.9-2-2-2zM9 17H7v-7h2v7zm4 0h-2V7h2v10zm4 0h-2v-4h2v4z\"/>\n",
              "    </g>\n",
              "</svg>\n",
              "  </button>\n",
              "\n",
              "<style>\n",
              "  .colab-df-quickchart {\n",
              "      --bg-color: #E8F0FE;\n",
              "      --fill-color: #1967D2;\n",
              "      --hover-bg-color: #E2EBFA;\n",
              "      --hover-fill-color: #174EA6;\n",
              "      --disabled-fill-color: #AAA;\n",
              "      --disabled-bg-color: #DDD;\n",
              "  }\n",
              "\n",
              "  [theme=dark] .colab-df-quickchart {\n",
              "      --bg-color: #3B4455;\n",
              "      --fill-color: #D2E3FC;\n",
              "      --hover-bg-color: #434B5C;\n",
              "      --hover-fill-color: #FFFFFF;\n",
              "      --disabled-bg-color: #3B4455;\n",
              "      --disabled-fill-color: #666;\n",
              "  }\n",
              "\n",
              "  .colab-df-quickchart {\n",
              "    background-color: var(--bg-color);\n",
              "    border: none;\n",
              "    border-radius: 50%;\n",
              "    cursor: pointer;\n",
              "    display: none;\n",
              "    fill: var(--fill-color);\n",
              "    height: 32px;\n",
              "    padding: 0;\n",
              "    width: 32px;\n",
              "  }\n",
              "\n",
              "  .colab-df-quickchart:hover {\n",
              "    background-color: var(--hover-bg-color);\n",
              "    box-shadow: 0 1px 2px rgba(60, 64, 67, 0.3), 0 1px 3px 1px rgba(60, 64, 67, 0.15);\n",
              "    fill: var(--button-hover-fill-color);\n",
              "  }\n",
              "\n",
              "  .colab-df-quickchart-complete:disabled,\n",
              "  .colab-df-quickchart-complete:disabled:hover {\n",
              "    background-color: var(--disabled-bg-color);\n",
              "    fill: var(--disabled-fill-color);\n",
              "    box-shadow: none;\n",
              "  }\n",
              "\n",
              "  .colab-df-spinner {\n",
              "    border: 2px solid var(--fill-color);\n",
              "    border-color: transparent;\n",
              "    border-bottom-color: var(--fill-color);\n",
              "    animation:\n",
              "      spin 1s steps(1) infinite;\n",
              "  }\n",
              "\n",
              "  @keyframes spin {\n",
              "    0% {\n",
              "      border-color: transparent;\n",
              "      border-bottom-color: var(--fill-color);\n",
              "      border-left-color: var(--fill-color);\n",
              "    }\n",
              "    20% {\n",
              "      border-color: transparent;\n",
              "      border-left-color: var(--fill-color);\n",
              "      border-top-color: var(--fill-color);\n",
              "    }\n",
              "    30% {\n",
              "      border-color: transparent;\n",
              "      border-left-color: var(--fill-color);\n",
              "      border-top-color: var(--fill-color);\n",
              "      border-right-color: var(--fill-color);\n",
              "    }\n",
              "    40% {\n",
              "      border-color: transparent;\n",
              "      border-right-color: var(--fill-color);\n",
              "      border-top-color: var(--fill-color);\n",
              "    }\n",
              "    60% {\n",
              "      border-color: transparent;\n",
              "      border-right-color: var(--fill-color);\n",
              "    }\n",
              "    80% {\n",
              "      border-color: transparent;\n",
              "      border-right-color: var(--fill-color);\n",
              "      border-bottom-color: var(--fill-color);\n",
              "    }\n",
              "    90% {\n",
              "      border-color: transparent;\n",
              "      border-bottom-color: var(--fill-color);\n",
              "    }\n",
              "  }\n",
              "</style>\n",
              "\n",
              "  <script>\n",
              "    async function quickchart(key) {\n",
              "      const quickchartButtonEl =\n",
              "        document.querySelector('#' + key + ' button');\n",
              "      quickchartButtonEl.disabled = true;  // To prevent multiple clicks.\n",
              "      quickchartButtonEl.classList.add('colab-df-spinner');\n",
              "      try {\n",
              "        const charts = await google.colab.kernel.invokeFunction(\n",
              "            'suggestCharts', [key], {});\n",
              "      } catch (error) {\n",
              "        console.error('Error during call to suggestCharts:', error);\n",
              "      }\n",
              "      quickchartButtonEl.classList.remove('colab-df-spinner');\n",
              "      quickchartButtonEl.classList.add('colab-df-quickchart-complete');\n",
              "    }\n",
              "    (() => {\n",
              "      let quickchartButtonEl =\n",
              "        document.querySelector('#df-d0831217-4617-4992-83a8-6920c3221169 button');\n",
              "      quickchartButtonEl.style.display =\n",
              "        google.colab.kernel.accessAllowed ? 'block' : 'none';\n",
              "    })();\n",
              "  </script>\n",
              "</div>\n",
              "    </div>\n",
              "  </div>\n"
            ]
          },
          "metadata": {},
          "execution_count": 8
        }
      ]
    },
    {
      "cell_type": "code",
      "source": [
        "top_countries = df.groupby(\"Country\").sum(\"Quantity\").sort_values(\"Quantity\", ascending = False)[\"Quantity\"].head(2).index"
      ],
      "metadata": {
        "id": "AzbvpwxcN5NY"
      },
      "id": "AzbvpwxcN5NY",
      "execution_count": 9,
      "outputs": []
    },
    {
      "cell_type": "code",
      "source": [
        "mean_country1 = df[df['Country'] == top_countries[0]]['TotalPrice'].mean()\n",
        "mean_country2 = df[df['Country'] == top_countries[1]]['TotalPrice'].mean()\n",
        "\n",
        "t_stat, p_value = stats.ttest_ind(df[df['Country'] == top_countries[0]]['TotalPrice'],\n",
        "                             df[df['Country'] == top_countries[1]]['TotalPrice'],\n",
        "                             equal_var=False)\n",
        "\n",
        "print(f\"국가 {top_countries[0]}의 'TotalPrice' 평균: {mean_country1}\")\n",
        "print(f\"국가 {top_countries[1]}의 'TotalPrice' 평균: {mean_country2}\")\n",
        "print(f\"t-통계량: {t_stat}, p-값: {p_value}\")"
      ],
      "metadata": {
        "colab": {
          "base_uri": "https://localhost:8080/"
        },
        "id": "6Jy1ILpvPWfZ",
        "outputId": "ba2b7e3c-9882-4329-f224-6b82cee7281c"
      },
      "id": "6Jy1ILpvPWfZ",
      "execution_count": 10,
      "outputs": [
        {
          "output_type": "stream",
          "name": "stdout",
          "text": [
            "국가 United Kingdom의 'TotalPrice' 평균: 16.525065419655366\n",
            "국가 Netherlands의 'TotalPrice' 평균: 120.05969633066216\n",
            "t-통계량: -30.271869389677317, p-값: 8.462075644260513e-172\n"
          ]
        }
      ]
    },
    {
      "cell_type": "markdown",
      "source": [
        "#### 6) t-통계량과 p-값을 해석하여 결과를 설명하세요. 1종 오류와 2종 오류의 개념을 설명하고, 해당 데이터셋에 적용하여 설명해 주세요.\n",
        "\n",
        "1. t-통계량 : -30.27\n",
        "- t통계량은 두 집간 사이의 평균 차이가 표준 오차에 비해 얼마나 큰지를 나타내는 값입니다. 이에 따라 위 값을 바탕으로 첫 번째 집단이 두 번째 집단에 비해 TotalPrice가 작다는 것을 의미하며, 절대값으로 30의 값을 지닌 것으로 보아 그 차이가 적지 않다는 것을 알 수 있습니다.\n",
        "\n",
        "2. p-value : 8.462075644260513e-172\n",
        "- p값이 굉장히 작은 것을 알 수 있습니다. 이는 귀무가설이 참일 때, t-통계량에 해당하는 수치가 나타날 확률을 의미합니다.\n",
        "따라서 우리는 위 수치를 바탕으로 귀무가설을 기각할 수 있는 근거를 얻을 수 있으며, 통계적으로 유의미하다는 것을 알 수 있습니다.\n",
        "\n",
        "3. 결과\n",
        "- 두 국가 사이의 TotalPrice의 평균은 다르다는 것을 알 수 있습니다. 즉, 주문량이 많은 두 국가 사이의 TotalPrice값이 유의미한 차이를 보인다는 것을 알 수 있습니다.\n",
        "\n",
        "4. 1종 오류, 2종 오류\n",
        "\n",
        "  1) 1종 오류 : 귀무가설이 참인데, 기각되는 경우를 의미하며, 본 테스트에서는 두 국가 사이에 차이가 없음에도 차이가 있다고 잘못된 결론을 내리는 경우를 의미합니다. p-value 값이 충분히 적게 나왔음에도 귀무가설이 참인 경우를 의미합니다.\n",
        "\n",
        "  2) 2종 오류 : 귀무가설이 거짓인데도 기각되지 않는 경우를 의미합니다. 본 테스트에서는 두 국가 사이의 차이가 있음에도 차이가 없다고 잘못된 결론을 내리는 경우를 의미합니다. p-valule 값이 귀무가설을 기각할 정도로 유의미하게 나오지 않아서 귀무가설을 채택하였으나, 두 국가 사이의 차이가 있으며, 서로 다른 집단인 경우를 의미합니다."
      ],
      "metadata": {
        "id": "HR7XDOPgSuRs"
      },
      "id": "HR7XDOPgSuRs"
    },
    {
      "cell_type": "markdown",
      "id": "d05d88d5",
      "metadata": {
        "id": "d05d88d5"
      },
      "source": [
        "## 미션 3) 주중, 주말에 따른 기술통계와 분위수 분석\n",
        "\n",
        "'UnitPrice'의 분포를 분석하기 위해 상자수염그림과 히스토그램을 그리세요. 데이터의 분위수, 중심경향치(평균, 중간값), 변산성(표준편차, 분산)을 계산하고, 이들이 데이터 분포에 대해 설명해 주세요. 다음의 주어진 코드를 활용해 주세요.\n",
        "\n",
        "\n",
        "```python\n",
        "# 'InvoiceDate' 컬럼을 이용하여 주중과 주말을 구분\n",
        "df['InvoiceDate'] = pd.to_datetime(df['InvoiceDate'])\n",
        "df['DayOfWeek'] = df['InvoiceDate'].dt.dayofweek\n",
        "\n",
        "\n",
        "df.loc[df['DayOfWeek'] <= 4, \"WeekEnd\"] = \"주중\"\n",
        "df.loc[df['DayOfWeek'] > 4, \"WeekEnd\"] = \"주말\"\n",
        "\n",
        "# 주중(월요일=0, 화요일=1, ..., 금요일=4)과 주말(토요일=5, 일요일=6)으로 데이터를 분리\n",
        "weekday_data = df[df['DayOfWeek'] <= 4]  # 주중\n",
        "weekend_data = df[df['DayOfWeek'] > 4]   # 주말\n",
        "```\n",
        "\n",
        "* 참고 : [pandas.DataFrame.describe — pandas documentation](https://pandas.pydata.org/docs/reference/api/pandas.DataFrame.describe.html)\n",
        "* 참고 : 슬라이드의 \"기술 통계\" 부분을 찾아보세요."
      ]
    },
    {
      "cell_type": "code",
      "execution_count": 11,
      "id": "e365a76e",
      "metadata": {
        "id": "e365a76e"
      },
      "outputs": [],
      "source": [
        "# 'InvoiceDate' 컬럼을 이용하여 주중과 주말을 구분\n",
        "df['InvoiceDate'] = pd.to_datetime(df['InvoiceDate'])\n",
        "df['DayOfWeek'] = df['InvoiceDate'].dt.dayofweek\n",
        "\n",
        "\n",
        "df.loc[df['DayOfWeek'] <= 4, \"WeekEnd\"] = \"주중\"\n",
        "df.loc[df['DayOfWeek'] > 4, \"WeekEnd\"] = \"주말\"\n",
        "\n",
        "# 주중(월요일=0, 화요일=1, ..., 금요일=4)과 주말(토요일=5, 일요일=6)으로 데이터를 분리\n",
        "weekday_data = df[df['DayOfWeek'] <= 4]  # 주중\n",
        "weekend_data = df[df['DayOfWeek'] > 4]   # 주말"
      ]
    },
    {
      "cell_type": "code",
      "execution_count": 12,
      "id": "b67acaaa",
      "metadata": {
        "id": "b67acaaa",
        "colab": {
          "base_uri": "https://localhost:8080/",
          "height": 386
        },
        "outputId": "534e49f5-5849-426d-b6ed-53410a4a2037"
      },
      "outputs": [
        {
          "output_type": "display_data",
          "data": {
            "text/plain": [
              "<Figure size 400x400 with 1 Axes>"
            ],
            "image/png": "[encoded data removed]"
          },
          "metadata": {
            "image/png": {
              "width": 405,
              "height": 369
            }
          }
        }
      ],
      "source": [
        "plt.figure(figsize=(4, 4))\n",
        "sns.boxplot(x='WeekEnd', y='UnitPrice', data=df);"
      ]
    },
    {
      "cell_type": "code",
      "source": [
        "plt.figure(figsize=(10, 6))\n",
        "\n",
        "plt.subplot(1, 2, 1)\n",
        "plt.hist(weekday_data['UnitPrice'], bins=30, color='blue', alpha=0.7)\n",
        "plt.title('Weekday Unit Price Histogram')\n",
        "plt.xlabel('Unit Price')\n",
        "plt.ylabel('Frequency')\n",
        "\n",
        "plt.subplot(1, 2, 2)\n",
        "plt.hist(weekend_data['UnitPrice'], bins=30, color='orange', alpha=0.7)\n",
        "plt.title('Weekend Unit Price Histogram')\n",
        "plt.xlabel('Unit Price')\n",
        "plt.ylabel('Frequency')\n",
        "\n",
        "plt.show()"
      ],
      "metadata": {
        "colab": {
          "base_uri": "https://localhost:8080/",
          "height": 561
        },
        "id": "Rn-hZPt-a1Pb",
        "outputId": "5bb278bc-1d52-4444-897f-8d55455601aa"
      },
      "id": "Rn-hZPt-a1Pb",
      "execution_count": 13,
      "outputs": [
        {
          "output_type": "display_data",
          "data": {
            "text/plain": [
              "<Figure size 1000x600 with 2 Axes>"
            ],
            "image/png": "[encoded data removed]"
          },
          "metadata": {
            "image/png": {
              "width": 873,
              "height": 544
            }
          }
        }
      ]
    },
    {
      "cell_type": "code",
      "source": [
        "weekday_stats = weekday_data['UnitPrice'].describe()\n",
        "weekend_stats = weekend_data['UnitPrice'].describe()\n",
        "\n",
        "print(\"주중(UnitPrice)의 기술통계:\")\n",
        "print(weekday_stats)\n",
        "print(\"\\n주말(UnitPrice)의 기술통계:\")\n",
        "print(weekend_stats)"
      ],
      "metadata": {
        "colab": {
          "base_uri": "https://localhost:8080/"
        },
        "id": "MDcnPyDxYLk5",
        "outputId": "64e5c175-1c05-4458-9738-1d8e2806d5f1"
      },
      "id": "MDcnPyDxYLk5",
      "execution_count": 14,
      "outputs": [
        {
          "output_type": "stream",
          "name": "stdout",
          "text": [
            "주중(UnitPrice)의 기술통계:\n",
            "count    477534.000000\n",
            "mean          4.843425\n",
            "std         103.032058\n",
            "min      -11062.060000\n",
            "25%           1.250000\n",
            "50%           2.100000\n",
            "75%           4.130000\n",
            "max       38970.000000\n",
            "Name: UnitPrice, dtype: float64\n",
            "\n",
            "주말(UnitPrice)의 기술통계:\n",
            "count    64375.000000\n",
            "mean         2.887824\n",
            "std          7.959497\n",
            "min          0.000000\n",
            "25%          1.250000\n",
            "50%          1.850000\n",
            "75%          3.750000\n",
            "max       1236.750000\n",
            "Name: UnitPrice, dtype: float64\n"
          ]
        }
      ]
    },
    {
      "cell_type": "code",
      "execution_count": 15,
      "id": "4a124bd7",
      "metadata": {
        "id": "4a124bd7",
        "colab": {
          "base_uri": "https://localhost:8080/"
        },
        "outputId": "1e1f8e34-2e4b-42e2-94cf-86ac80998238"
      },
      "outputs": [
        {
          "output_type": "stream",
          "name": "stdout",
          "text": [
            "\n",
            "주중(UnitPrice)의 분위수:\n",
            "0.25    1.25\n",
            "0.50    2.10\n",
            "0.75    4.13\n",
            "Name: UnitPrice, dtype: float64\n",
            "\n",
            "주말(UnitPrice)의 분위수:\n",
            "0.25    1.25\n",
            "0.50    1.85\n",
            "0.75    3.75\n",
            "Name: UnitPrice, dtype: float64\n"
          ]
        }
      ],
      "source": [
        "weekday_quantiles = weekday_data['UnitPrice'].quantile([0.25, 0.5, 0.75])\n",
        "weekend_quantiles = weekend_data['UnitPrice'].quantile([0.25, 0.5, 0.75])\n",
        "\n",
        "print(\"\\n주중(UnitPrice)의 분위수:\")\n",
        "print(weekday_quantiles)\n",
        "print(\"\\n주말(UnitPrice)의 분위수:\")\n",
        "print(weekend_quantiles)"
      ]
    },
    {
      "cell_type": "markdown",
      "id": "2f63e2de",
      "metadata": {
        "id": "2f63e2de"
      },
      "source": [
        "## 미션4)  'TotalPrice'의 중간값이 특정 값과 다른지 검증하기 위해 비모수 검정 (예: 맨-휘트니 U-검정)을 사용하세요. 검증 결과에 대해 비즈니스 관점에서 분석해 주세요.\n",
        "\n",
        "* 비모수 검정은 데이터가 정규 분포를 따르지 않거나, 정규 분포에 대한 가정을 할 수 없을 때 사용됩니다. 특히, 작은 표본 크기, 이상치의 존재, 순위나 순서와 같은 비정량적 데이터에 적합합니다. 또한, 두 그룹 간의 중앙값이나 분포의 형태가 다를 때 비모수 검정을 사용할 수 있습니다.\n",
        "\n",
        "* 맨-휘트니 U-검정은 두 독립적인 표본 간에 중앙값의 차이를 비교하는 데 사용됩니다. 이 검정은 두 그룹의 데이터가 서로 독립적이며, 최소한 서열 척도로 측정되어야 합니다. 데이터의 분포 형태에 대한 가정이 필요 없으며, 크기가 다른 두 표본에 대해서도 사용할 수 있습니다. 이 검정은 데이터의 중앙값이 특정 값과 다른지 여부를 검증하는 데 유용합니다.\n",
        "\n",
        "다음의 주어진 코드를 활용해 주세요.\n",
        "\n",
        "```python\n",
        "from scipy.stats import mannwhitneyu\n",
        "# 'TotalPrice' 컬럼을 생성합니다. 이는 'Quantity'와 'UnitPrice'의 곱으로 정의됩니다.\n",
        "df['TotalPrice'] = df['Quantity'] * df['UnitPrice']\n",
        "```\n",
        "\n",
        "* 참고 : https://www.ibm.com/docs/ko/spss-statistics/beta?topic=tests-mann-whitney-u-test"
      ]
    },
    {
      "cell_type": "code",
      "execution_count": 16,
      "id": "87a7c568",
      "metadata": {
        "id": "87a7c568"
      },
      "outputs": [],
      "source": [
        "from scipy.stats import mannwhitneyu\n",
        "\n",
        "# 'TotalPrice' 컬럼을 생성합니다. 이는 'Quantity'와 'UnitPrice'의 곱으로 정의됩니다.\n",
        "df['TotalPrice'] = df['Quantity'] * df['UnitPrice']"
      ]
    },
    {
      "cell_type": "code",
      "source": [
        "target_value = 1000\n",
        "\n",
        "# 맨-휘트니 U-검정\n",
        "statistic, p_value = mannwhitneyu(df['TotalPrice'], [target_value], alternative='two-sided')\n",
        "\n",
        "print(f'Mann-Whitney U-statistic: {statistic}')\n",
        "print(f'P-value: {p_value}')"
      ],
      "metadata": {
        "colab": {
          "base_uri": "https://localhost:8080/"
        },
        "id": "nOyThKlncxkh",
        "outputId": "11cc05fb-789f-4705-f3a6-7b7727942543"
      },
      "id": "nOyThKlncxkh",
      "execution_count": 17,
      "outputs": [
        {
          "output_type": "stream",
          "name": "stdout",
          "text": [
            "Mann-Whitney U-statistic: 388.5\n",
            "P-value: 0.08369156929699904\n"
          ]
        }
      ]
    },
    {
      "cell_type": "markdown",
      "source": [
        "위 검정의 결과를 바탕으로 알 수 있는 점은 유의 수준인 0.05의 수치를 넘어선 p-value입니다. 이는 TotalPrice의 중앙값이 특정 값과 크게 다르지 않다는 것을 의미합니다."
      ],
      "metadata": {
        "id": "qIxvZKvMfJaS"
      },
      "id": "qIxvZKvMfJaS"
    },
    {
      "cell_type": "markdown",
      "id": "2e9df6ec",
      "metadata": {
        "id": "2e9df6ec"
      },
      "source": [
        "## 미션5) UnitPrice 컬럼에 대한 95% 신뢰구간을 구하고  seaborn 으로 신뢰구간을 시각화 해주세요. 그리고 이 신뢰구간이 비즈니스 결정에 어떻게 활용될 수 있는지 설명하세요."
      ]
    },
    {
      "cell_type": "code",
      "execution_count": 18,
      "id": "380e6a99",
      "metadata": {
        "id": "380e6a99"
      },
      "outputs": [],
      "source": [
        "from scipy import stats"
      ]
    },
    {
      "cell_type": "code",
      "execution_count": 19,
      "id": "e008a91c",
      "metadata": {
        "id": "e008a91c",
        "colab": {
          "base_uri": "https://localhost:8080/"
        },
        "outputId": "db014c7e-dcc9-4b34-e065-241fe1ec2327"
      },
      "outputs": [
        {
          "output_type": "execute_result",
          "data": {
            "text/plain": [
              "InvoiceNo           0\n",
              "StockCode           0\n",
              "Description      1454\n",
              "Quantity            0\n",
              "InvoiceDate         0\n",
              "UnitPrice           0\n",
              "CustomerID     135080\n",
              "Country             0\n",
              "TotalPrice          0\n",
              "DayOfWeek           0\n",
              "WeekEnd             0\n",
              "dtype: int64"
            ]
          },
          "metadata": {},
          "execution_count": 19
        }
      ],
      "source": [
        "df.isna().sum()"
      ]
    },
    {
      "cell_type": "code",
      "execution_count": 20,
      "id": "2d675894",
      "metadata": {
        "id": "2d675894"
      },
      "outputs": [],
      "source": [
        "target = df[\"UnitPrice\"]\n",
        "confidence_interval = stats.t.interval(0.95, len(target)-1, loc=np.mean(target), scale=stats.sem(target))"
      ]
    },
    {
      "cell_type": "code",
      "execution_count": 21,
      "id": "f179d70e",
      "metadata": {
        "id": "f179d70e",
        "colab": {
          "base_uri": "https://localhost:8080/",
          "height": 525
        },
        "outputId": "eb6f5402-abbf-4961-e4e9-820a0c03f0ea"
      },
      "outputs": [
        {
          "output_type": "execute_result",
          "data": {
            "text/plain": [
              "<matplotlib.lines.Line2D at 0x784d3cd15ae0>"
            ]
          },
          "metadata": {},
          "execution_count": 21
        },
        {
          "output_type": "display_data",
          "data": {
            "text/plain": [
              "<Figure size 511.111x500 with 1 Axes>"
            ],
            "image/png": "[encoded data removed]"
          },
          "metadata": {
            "image/png": {
              "width": 508,
              "height": 490
            }
          }
        }
      ],
      "source": [
        "sns.catplot(x=target, kind=\"bar\")\n",
        "plt.axvline(confidence_interval[0], color='red', linestyle='dashed', linewidth=2, label='Lower Bound')\n",
        "plt.axvline(confidence_interval[1], color='green', linestyle='dashed', linewidth=2, label='Upper Bound')"
      ]
    },
    {
      "cell_type": "code",
      "source": [
        "# 시각화\n",
        "sns.histplot(data = target, stat='density', bins = 5)\n",
        "plt.axvline(confidence_interval[0], color='red', linestyle='dashed', linewidth=2, label='Lower Bound (95% CI)')\n",
        "plt.axvline(confidence_interval[1], color='green', linestyle='dashed', linewidth=2, label='Upper Bound (95% CI)')\n",
        "\n",
        "plt.xlabel('UnitPrice')\n",
        "plt.ylabel('Density')\n",
        "plt.xlim(target.min(), target.max())\n",
        "plt.legend()\n",
        "plt.show()"
      ],
      "metadata": {
        "colab": {
          "base_uri": "https://localhost:8080/",
          "height": 456
        },
        "id": "IZpCE2kCjNep",
        "outputId": "39e57750-23af-451a-b588-8662664bc1c8"
      },
      "id": "IZpCE2kCjNep",
      "execution_count": 35,
      "outputs": [
        {
          "output_type": "display_data",
          "data": {
            "text/plain": [
              "<Figure size 640x480 with 1 Axes>"
            ],
            "image/png": "[encoded data removed]"
          },
          "metadata": {
            "image/png": {
              "width": 614,
              "height": 439
            }
          }
        }
      ]
    },
    {
      "cell_type": "code",
      "source": [
        "target.max()"
      ],
      "metadata": {
        "colab": {
          "base_uri": "https://localhost:8080/"
        },
        "id": "BJkhp80JkYiL",
        "outputId": "172474c0-a318-43fe-8901-cddbdbcf7629"
      },
      "id": "BJkhp80JkYiL",
      "execution_count": 25,
      "outputs": [
        {
          "output_type": "execute_result",
          "data": {
            "text/plain": [
              "38970.0"
            ]
          },
          "metadata": {},
          "execution_count": 25
        }
      ]
    },
    {
      "cell_type": "code",
      "source": [
        "target.min()"
      ],
      "metadata": {
        "colab": {
          "base_uri": "https://localhost:8080/"
        },
        "id": "AYNLQjRBkapG",
        "outputId": "90fc1397-cc32-4266-b51d-863d06996a21"
      },
      "id": "AYNLQjRBkapG",
      "execution_count": 26,
      "outputs": [
        {
          "output_type": "execute_result",
          "data": {
            "text/plain": [
              "-11062.06"
            ]
          },
          "metadata": {},
          "execution_count": 26
        }
      ]
    },
    {
      "cell_type": "markdown",
      "source": [
        "신뢰구간은 추정치가 어느 범위 내에 있을 지 가능성을 나타내는 척도로 예를 들어서 신뢰구간을 활용하여 불확실한 수익을 예측하기 위해 신뢰구간을 설정하고 이를 바탕으로 수익에 맞는 적절한 예산을 계획할 수 있습니다.\n",
        "\n",
        "또한 제품의 생산량에 대한 신뢰구간을 고려하여 제품 재고 관리 최적화에 도움을 줄 수 있습니다."
      ],
      "metadata": {
        "id": "y9jlQocalTCi"
      },
      "id": "y9jlQocalTCi"
    }
  ],
  "metadata": {
    "kernelspec": {
      "display_name": "Python 3 (ipykernel)",
      "language": "python",
      "name": "python3"
    },
    "language_info": {
      "codemirror_mode": {
        "name": "ipython",
        "version": 3
      },
      "file_extension": ".py",
      "mimetype": "text/x-python",
      "name": "python",
      "nbconvert_exporter": "python",
      "pygments_lexer": "ipython3",
      "version": "3.11.4"
    },
    "toc": {
      "base_numbering": 1,
      "nav_menu": {},
      "number_sections": false,
      "sideBar": true,
      "skip_h1_title": false,
      "title_cell": "Table of Contents",
      "title_sidebar": "Contents",
      "toc_cell": false,
      "toc_position": {},
      "toc_section_display": true,
      "toc_window_display": true
    },
    "varInspector": {
      "cols": {
        "lenName": 16,
        "lenType": 16,
        "lenVar": 40
      },
      "kernels_config": {
        "python": {
          "delete_cmd_postfix": "",
          "delete_cmd_prefix": "del ",
          "library": "var_list.py",
          "varRefreshCmd": "print(var_dic_list())"
        },
        "r": {
          "delete_cmd_postfix": ") ",
          "delete_cmd_prefix": "rm(",
          "library": "var_list.r",
          "varRefreshCmd": "cat(var_dic_list()) "
        }
      },
      "types_to_exclude": [
        "module",
        "function",
        "builtin_function_or_method",
        "instance",
        "_Feature"
      ],
      "window_display": false
    },
    "colab": {
      "provenance": []
    }
  },
  "nbformat": 4,
  "nbformat_minor": 5
}